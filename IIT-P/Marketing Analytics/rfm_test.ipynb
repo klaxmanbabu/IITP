{
 "cells": [
  {
   "cell_type": "code",
   "execution_count": 2,
   "metadata": {},
   "outputs": [],
   "source": [
    "import pandas as pd\n",
    "import os\n",
    "from datetime import datetime, timedelta"
   ]
  },
  {
   "cell_type": "code",
   "execution_count": 3,
   "metadata": {},
   "outputs": [],
   "source": [
    "dir_path = 'D:/Training_BSE/marketing_analytics'\n",
    "file_name = 'OnlineRetail.csv'"
   ]
  },
  {
   "cell_type": "code",
   "execution_count": 4,
   "metadata": {},
   "outputs": [],
   "source": [
    "#Read the data\n",
    "df_data = pd.read_csv(os.path.join(dir_path,file_name),encoding='iso-8859-1')"
   ]
  },
  {
   "cell_type": "code",
   "execution_count": 5,
   "metadata": {},
   "outputs": [
    {
     "data": {
      "text/plain": [
       "(541909, 8)"
      ]
     },
     "execution_count": 5,
     "metadata": {},
     "output_type": "execute_result"
    }
   ],
   "source": [
    "df_data.shape"
   ]
  },
  {
   "cell_type": "code",
   "execution_count": 8,
   "metadata": {},
   "outputs": [],
   "source": [
    "df_data['InvoiceDate'] = pd.to_datetime(df_data['InvoiceDate'],errors='coerce')"
   ]
  },
  {
   "cell_type": "code",
   "execution_count": 10,
   "metadata": {},
   "outputs": [],
   "source": [
    "df_data['CustomerID'] = df_data['CustomerID'].astype(str)"
   ]
  },
  {
   "cell_type": "code",
   "execution_count": 14,
   "metadata": {},
   "outputs": [],
   "source": [
    "tx_uk = df_data.loc[df_data['Country']=='United Kingdom']"
   ]
  },
  {
   "cell_type": "code",
   "execution_count": 15,
   "metadata": {},
   "outputs": [
    {
     "data": {
      "text/plain": [
       "(495478, 8)"
      ]
     },
     "execution_count": 15,
     "metadata": {},
     "output_type": "execute_result"
    }
   ],
   "source": [
    "tx_uk.shape"
   ]
  },
  {
   "cell_type": "code",
   "execution_count": 17,
   "metadata": {},
   "outputs": [
    {
     "name": "stderr",
     "output_type": "stream",
     "text": [
      "<ipython-input-17-7134117e3bc6>:1: SettingWithCopyWarning: \n",
      "A value is trying to be set on a copy of a slice from a DataFrame.\n",
      "Try using .loc[row_indexer,col_indexer] = value instead\n",
      "\n",
      "See the caveats in the documentation: https://pandas.pydata.org/pandas-docs/stable/user_guide/indexing.html#returning-a-view-versus-a-copy\n",
      "  tx_uk['CustomerID'] = tx_uk['CustomerID'].astype(str).str.split('.').str[0]\n"
     ]
    }
   ],
   "source": [
    "tx_uk['CustomerID'] = tx_uk['CustomerID'].astype(str).str.split('.').str[0]"
   ]
  },
  {
   "cell_type": "code",
   "execution_count": 21,
   "metadata": {},
   "outputs": [],
   "source": [
    "#Filter the Data for 6M and 3M from the last date in the data\n",
    "max_date = tx_uk['InvoiceDate'].max()\n",
    "tx_6M = tx_uk.loc[(tx_uk['InvoiceDate']<=max_date)&(tx_uk['InvoiceDate'] > (max_date-timedelta(days=180)))]"
   ]
  },
  {
   "cell_type": "code",
   "execution_count": 22,
   "metadata": {},
   "outputs": [
    {
     "data": {
      "text/plain": [
       "(289998, 8)"
      ]
     },
     "execution_count": 22,
     "metadata": {},
     "output_type": "execute_result"
    }
   ],
   "source": [
    "tx_6M.shape"
   ]
  },
  {
   "cell_type": "code",
   "execution_count": 24,
   "metadata": {},
   "outputs": [
    {
     "name": "stderr",
     "output_type": "stream",
     "text": [
      "<ipython-input-24-dc134382dd78>:1: SettingWithCopyWarning: \n",
      "A value is trying to be set on a copy of a slice from a DataFrame.\n",
      "Try using .loc[row_indexer,col_indexer] = value instead\n",
      "\n",
      "See the caveats in the documentation: https://pandas.pydata.org/pandas-docs/stable/user_guide/indexing.html#returning-a-view-versus-a-copy\n",
      "  tx_6M['Revenue'] = tx_6M['UnitPrice'] * tx_6M['Quantity']\n"
     ]
    }
   ],
   "source": [
    "tx_6M['Revenue'] = tx_6M['UnitPrice'] * tx_6M['Quantity']"
   ]
  },
  {
   "cell_type": "code",
   "execution_count": 25,
   "metadata": {},
   "outputs": [],
   "source": [
    "tx_RFM = tx_6M.groupby(['CustomerID']).agg(MaxPurchaseDate=('InvoiceDate','max'),\\\n",
    "                                           Frequency=('InvoiceNo','count'),Monetary_Val = ('Revenue','sum')).reset_index()"
   ]
  },
  {
   "cell_type": "code",
   "execution_count": 26,
   "metadata": {},
   "outputs": [
    {
     "data": {
      "text/plain": [
       "(3172, 4)"
      ]
     },
     "execution_count": 26,
     "metadata": {},
     "output_type": "execute_result"
    }
   ],
   "source": [
    "tx_RFM.shape"
   ]
  },
  {
   "cell_type": "code",
   "execution_count": 27,
   "metadata": {},
   "outputs": [],
   "source": [
    "tx_RFM['Recency'] = (tx_RFM['MaxPurchaseDate'].max() - tx_RFM['MaxPurchaseDate']).dt.days"
   ]
  },
  {
   "cell_type": "code",
   "execution_count": 39,
   "metadata": {},
   "outputs": [],
   "source": [
    "#Sorting the data\n",
    "tx_RFM = tx_RFM.sort_values(by=['Recency','Frequency','Monetary_Val'],ascending = [True,False,False])\n",
    "tx_RFM = tx_RFM.loc[tx_RFM['Monetary_Val'] <= 70000]"
   ]
  },
  {
   "cell_type": "code",
   "execution_count": 43,
   "metadata": {},
   "outputs": [],
   "source": [
    "from sklearn.cluster import KMeans\n",
    "#Cluster the RFM part\n",
    "kmeans = KMeans(n_clusters=3)\n",
    "k_fit = kmeans.fit_predict(tx_RFM[['Recency','Frequency','Monetary_Val']])\n",
    "tx_RFM['Cluster'] = k_fit"
   ]
  },
  {
   "cell_type": "code",
   "execution_count": 44,
   "metadata": {},
   "outputs": [],
   "source": [
    "tx_RFM_grp_cluster = tx_RFM.groupby(['Cluster'])['Monetary_Val'].describe()"
   ]
  },
  {
   "cell_type": "code",
   "execution_count": 45,
   "metadata": {},
   "outputs": [
    {
     "data": {
      "text/html": [
       "<div>\n",
       "<style scoped>\n",
       "    .dataframe tbody tr th:only-of-type {\n",
       "        vertical-align: middle;\n",
       "    }\n",
       "\n",
       "    .dataframe tbody tr th {\n",
       "        vertical-align: top;\n",
       "    }\n",
       "\n",
       "    .dataframe thead th {\n",
       "        text-align: right;\n",
       "    }\n",
       "</style>\n",
       "<table border=\"1\" class=\"dataframe\">\n",
       "  <thead>\n",
       "    <tr style=\"text-align: right;\">\n",
       "      <th></th>\n",
       "      <th>count</th>\n",
       "      <th>mean</th>\n",
       "      <th>std</th>\n",
       "      <th>min</th>\n",
       "      <th>25%</th>\n",
       "      <th>50%</th>\n",
       "      <th>75%</th>\n",
       "      <th>max</th>\n",
       "    </tr>\n",
       "    <tr>\n",
       "      <th>Cluster</th>\n",
       "      <th></th>\n",
       "      <th></th>\n",
       "      <th></th>\n",
       "      <th></th>\n",
       "      <th></th>\n",
       "      <th></th>\n",
       "      <th></th>\n",
       "      <th></th>\n",
       "    </tr>\n",
       "  </thead>\n",
       "  <tbody>\n",
       "    <tr>\n",
       "      <th>0</th>\n",
       "      <td>2947.0</td>\n",
       "      <td>700.829380</td>\n",
       "      <td>643.695846</td>\n",
       "      <td>-4287.63</td>\n",
       "      <td>239.6100</td>\n",
       "      <td>479.450</td>\n",
       "      <td>986.4300</td>\n",
       "      <td>2989.87</td>\n",
       "    </tr>\n",
       "    <tr>\n",
       "      <th>1</th>\n",
       "      <td>20.0</td>\n",
       "      <td>30228.545000</td>\n",
       "      <td>10741.205372</td>\n",
       "      <td>18052.00</td>\n",
       "      <td>22869.9850</td>\n",
       "      <td>27151.400</td>\n",
       "      <td>33738.0325</td>\n",
       "      <td>57120.91</td>\n",
       "    </tr>\n",
       "    <tr>\n",
       "      <th>2</th>\n",
       "      <td>202.0</td>\n",
       "      <td>5292.599802</td>\n",
       "      <td>2762.861925</td>\n",
       "      <td>3000.21</td>\n",
       "      <td>3534.6775</td>\n",
       "      <td>4083.825</td>\n",
       "      <td>5894.8600</td>\n",
       "      <td>16068.45</td>\n",
       "    </tr>\n",
       "  </tbody>\n",
       "</table>\n",
       "</div>"
      ],
      "text/plain": [
       "          count          mean           std       min         25%        50%  \\\n",
       "Cluster                                                                        \n",
       "0        2947.0    700.829380    643.695846  -4287.63    239.6100    479.450   \n",
       "1          20.0  30228.545000  10741.205372  18052.00  22869.9850  27151.400   \n",
       "2         202.0   5292.599802   2762.861925   3000.21   3534.6775   4083.825   \n",
       "\n",
       "                75%       max  \n",
       "Cluster                        \n",
       "0          986.4300   2989.87  \n",
       "1        33738.0325  57120.91  \n",
       "2         5894.8600  16068.45  "
      ]
     },
     "execution_count": 45,
     "metadata": {},
     "output_type": "execute_result"
    }
   ],
   "source": [
    "tx_RFM_grp_cluster"
   ]
  },
  {
   "cell_type": "code",
   "execution_count": 47,
   "metadata": {},
   "outputs": [],
   "source": [
    "tx_RFM.to_excel(os.path.join(dir_path,'clustered.xlsx'),index=None)"
   ]
  },
  {
   "cell_type": "code",
   "execution_count": null,
   "metadata": {},
   "outputs": [],
   "source": []
  }
 ],
 "metadata": {
  "kernelspec": {
   "display_name": "Python 3",
   "language": "python",
   "name": "python3"
  },
  "language_info": {
   "codemirror_mode": {
    "name": "ipython",
    "version": 3
   },
   "file_extension": ".py",
   "mimetype": "text/x-python",
   "name": "python",
   "nbconvert_exporter": "python",
   "pygments_lexer": "ipython3",
   "version": "3.8.5"
  }
 },
 "nbformat": 4,
 "nbformat_minor": 4
}
