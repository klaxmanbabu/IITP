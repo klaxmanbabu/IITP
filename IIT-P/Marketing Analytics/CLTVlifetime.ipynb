{
 "cells": [
  {
   "cell_type": "code",
   "execution_count": 19,
   "metadata": {},
   "outputs": [],
   "source": [
    "import pandas as pd\n",
    "import os\n",
    "from datetime import datetime, timedelta\n",
    "import lifetimes\n",
    "from lifetimes.plotting import plot_probability_alive_matrix\n",
    "import matplotlib.pyplot as plt"
   ]
  },
  {
   "cell_type": "code",
   "execution_count": 2,
   "metadata": {},
   "outputs": [],
   "source": [
    "dir_path = 'D:/Training_BSE/marketing_analytics'\n",
    "file_name = 'OnlineRetail.csv'"
   ]
  },
  {
   "cell_type": "code",
   "execution_count": 3,
   "metadata": {},
   "outputs": [],
   "source": [
    "df_data = pd.read_csv(os.path.join(dir_path,file_name),encoding='iso-8859-1')"
   ]
  },
  {
   "cell_type": "code",
   "execution_count": 4,
   "metadata": {},
   "outputs": [],
   "source": [
    "df_data['InvoiceDate'] = pd.to_datetime(df_data['InvoiceDate'],errors='coerce')"
   ]
  },
  {
   "cell_type": "code",
   "execution_count": 5,
   "metadata": {},
   "outputs": [],
   "source": [
    "tx_uk = df_data.loc[df_data['Country']=='United Kingdom']"
   ]
  },
  {
   "cell_type": "code",
   "execution_count": 6,
   "metadata": {},
   "outputs": [],
   "source": [
    "tx_uk['CustomerID'] = tx_uk['CustomerID'].astype(str).str.split('.').str[0]"
   ]
  },
  {
   "cell_type": "code",
   "execution_count": 8,
   "metadata": {},
   "outputs": [],
   "source": [
    "max_date = tx_uk['InvoiceDate'].max()\n",
    "tx_3M = tx_uk.loc[(tx_uk['InvoiceDate']<=max_date)&(tx_uk['InvoiceDate'] > (max_date-timedelta(days=90)))]\n",
    "tx_6M = tx_uk.loc[(tx_uk['InvoiceDate'] > (max_date-timedelta(days=270)))&(tx_uk['InvoiceDate'] <=(max_date-timedelta(days=90)))]"
   ]
  },
  {
   "cell_type": "code",
   "execution_count": 9,
   "metadata": {},
   "outputs": [],
   "source": [
    "tx_6M['Revenue'] = tx_6M['UnitPrice'] * tx_6M['Quantity']"
   ]
  },
  {
   "cell_type": "code",
   "execution_count": 10,
   "metadata": {},
   "outputs": [],
   "source": [
    "s = lifetimes.utils.summary_data_from_transaction_data(tx_6M, 'CustomerID', 'InvoiceDate','Revenue').reset_index()"
   ]
  },
  {
   "cell_type": "code",
   "execution_count": 13,
   "metadata": {},
   "outputs": [
    {
     "data": {
      "text/plain": [
       "<AxesSubplot:ylabel='Frequency'>"
      ]
     },
     "execution_count": 13,
     "metadata": {},
     "output_type": "execute_result"
    },
    {
     "data": {
      "image/png": "[encoded data removed]",
      "text/plain": [
       "<Figure size 432x288 with 1 Axes>"
      ]
     },
     "metadata": {
      "needs_background": "light"
     },
     "output_type": "display_data"
    }
   ],
   "source": [
    "s['frequency'].plot(kind='hist',bins=50)"
   ]
  },
  {
   "cell_type": "code",
   "execution_count": 14,
   "metadata": {},
   "outputs": [],
   "source": [
    "#One time Buyer\n",
    "one_time_buyers = sum(s['frequency']==0)*100/s.shape[0]"
   ]
  },
  {
   "cell_type": "code",
   "execution_count": 15,
   "metadata": {},
   "outputs": [
    {
     "data": {
      "text/plain": [
       "40.90551181102362"
      ]
     },
     "execution_count": 15,
     "metadata": {},
     "output_type": "execute_result"
    }
   ],
   "source": [
    "one_time_buyers"
   ]
  },
  {
   "cell_type": "code",
   "execution_count": 16,
   "metadata": {},
   "outputs": [
    {
     "data": {
      "text/html": [
       "<div>\n",
       "<style scoped>\n",
       "    .dataframe tbody tr th:only-of-type {\n",
       "        vertical-align: middle;\n",
       "    }\n",
       "\n",
       "    .dataframe tbody tr th {\n",
       "        vertical-align: top;\n",
       "    }\n",
       "\n",
       "    .dataframe thead th {\n",
       "        text-align: right;\n",
       "    }\n",
       "</style>\n",
       "<table border=\"1\" class=\"dataframe\">\n",
       "  <thead>\n",
       "    <tr style=\"text-align: right;\">\n",
       "      <th></th>\n",
       "      <th>coef</th>\n",
       "      <th>se(coef)</th>\n",
       "      <th>lower 95% bound</th>\n",
       "      <th>upper 95% bound</th>\n",
       "    </tr>\n",
       "  </thead>\n",
       "  <tbody>\n",
       "    <tr>\n",
       "      <th>r</th>\n",
       "      <td>0.774372</td>\n",
       "      <td>0.036429</td>\n",
       "      <td>0.702971</td>\n",
       "      <td>0.845772</td>\n",
       "    </tr>\n",
       "    <tr>\n",
       "      <th>alpha</th>\n",
       "      <td>45.909361</td>\n",
       "      <td>2.655133</td>\n",
       "      <td>40.705301</td>\n",
       "      <td>51.113421</td>\n",
       "    </tr>\n",
       "    <tr>\n",
       "      <th>a</th>\n",
       "      <td>0.018712</td>\n",
       "      <td>0.013835</td>\n",
       "      <td>-0.008404</td>\n",
       "      <td>0.045828</td>\n",
       "    </tr>\n",
       "    <tr>\n",
       "      <th>b</th>\n",
       "      <td>0.234487</td>\n",
       "      <td>0.171773</td>\n",
       "      <td>-0.102189</td>\n",
       "      <td>0.571162</td>\n",
       "    </tr>\n",
       "  </tbody>\n",
       "</table>\n",
       "</div>"
      ],
      "text/plain": [
       "            coef  se(coef)  lower 95% bound  upper 95% bound\n",
       "r       0.774372  0.036429         0.702971         0.845772\n",
       "alpha  45.909361  2.655133        40.705301        51.113421\n",
       "a       0.018712  0.013835        -0.008404         0.045828\n",
       "b       0.234487  0.171773        -0.102189         0.571162"
      ]
     },
     "execution_count": 16,
     "metadata": {},
     "output_type": "execute_result"
    }
   ],
   "source": [
    "#CLTV Formula\n",
    "# CLTV = Expected Avg Purchase Value * Expected Average Transaction Count * Margin\n",
    "# Alternate Formula of CLTV = (AverageValue * AverageTransaction) * Margin/ChurnRate <---ChurnRate = 1 - RepeatRate\n",
    "#Fitting BetaGemetric / Negative Binomial Distribution\n",
    "bgf = lifetimes.BetaGeoFitter(penalizer_coef=0.001)\n",
    "model = bgf.fit(s['frequency'],s['recency'],s['T'])\n",
    "model.summary"
   ]
  },
  {
   "cell_type": "code",
   "execution_count": 17,
   "metadata": {},
   "outputs": [],
   "source": [
    "#Compute the Prpbability that a Customer is Active (i.e Recency is low)\n",
    "s['Probability_Alive'] = bgf.conditional_probability_alive(s['frequency'],s['recency'],s['T'])"
   ]
  },
  {
   "cell_type": "code",
   "execution_count": 21,
   "metadata": {},
   "outputs": [
    {
     "data": {
      "text/plain": [
       "<function lifetimes.plotting.plot_probability_alive_matrix(model, max_frequency=None, max_recency=None, title='Probability Customer is Alive,\\nby Frequency and Recency of a Customer', xlabel=\"Customer's Historical Frequency\", ylabel=\"Customer's Recency\", **kwargs)>"
      ]
     },
     "execution_count": 21,
     "metadata": {},
     "output_type": "execute_result"
    },
    {
     "data": {
      "text/plain": [
       "<Figure size 1800x720 with 0 Axes>"
      ]
     },
     "metadata": {},
     "output_type": "display_data"
    }
   ],
   "source": [
    "fig = plt.figure(figsize=(25,10))\n",
    "plot_probability_alive_matrix"
   ]
  },
  {
   "cell_type": "code",
   "execution_count": 22,
   "metadata": {},
   "outputs": [],
   "source": [
    "#Compute the probability that Customer will but in next time period.\n",
    "t=30\n",
    "s['pred_num_trxn'] = bgf.conditional_expected_number_of_purchases_up_to_time(t,s['frequency'],s['recency'],s['T'])"
   ]
  },
  {
   "cell_type": "code",
   "execution_count": 23,
   "metadata": {},
   "outputs": [
    {
     "data": {
      "text/html": [
       "<div>\n",
       "<style scoped>\n",
       "    .dataframe tbody tr th:only-of-type {\n",
       "        vertical-align: middle;\n",
       "    }\n",
       "\n",
       "    .dataframe tbody tr th {\n",
       "        vertical-align: top;\n",
       "    }\n",
       "\n",
       "    .dataframe thead th {\n",
       "        text-align: right;\n",
       "    }\n",
       "</style>\n",
       "<table border=\"1\" class=\"dataframe\">\n",
       "  <thead>\n",
       "    <tr style=\"text-align: right;\">\n",
       "      <th></th>\n",
       "      <th>CustomerID</th>\n",
       "      <th>frequency</th>\n",
       "      <th>recency</th>\n",
       "      <th>T</th>\n",
       "      <th>monetary_value</th>\n",
       "      <th>Probability_Alive</th>\n",
       "      <th>pred_num_trxn</th>\n",
       "    </tr>\n",
       "  </thead>\n",
       "  <tbody>\n",
       "    <tr>\n",
       "      <th>0</th>\n",
       "      <td>12747</td>\n",
       "      <td>3.0</td>\n",
       "      <td>109.0</td>\n",
       "      <td>127.0</td>\n",
       "      <td>335.450000</td>\n",
       "      <td>0.987478</td>\n",
       "      <td>0.645229</td>\n",
       "    </tr>\n",
       "    <tr>\n",
       "      <th>1</th>\n",
       "      <td>12748</td>\n",
       "      <td>49.0</td>\n",
       "      <td>175.0</td>\n",
       "      <td>175.0</td>\n",
       "      <td>170.096735</td>\n",
       "      <td>0.999612</td>\n",
       "      <td>6.748396</td>\n",
       "    </tr>\n",
       "    <tr>\n",
       "      <th>2</th>\n",
       "      <td>12749</td>\n",
       "      <td>4.0</td>\n",
       "      <td>100.0</td>\n",
       "      <td>122.0</td>\n",
       "      <td>418.362500</td>\n",
       "      <td>0.988815</td>\n",
       "      <td>0.841706</td>\n",
       "    </tr>\n",
       "    <tr>\n",
       "      <th>3</th>\n",
       "      <td>12821</td>\n",
       "      <td>0.0</td>\n",
       "      <td>0.0</td>\n",
       "      <td>123.0</td>\n",
       "      <td>0.000000</td>\n",
       "      <td>1.000000</td>\n",
       "      <td>0.136121</td>\n",
       "    </tr>\n",
       "    <tr>\n",
       "      <th>4</th>\n",
       "      <td>12823</td>\n",
       "      <td>1.0</td>\n",
       "      <td>127.0</td>\n",
       "      <td>163.0</td>\n",
       "      <td>229.500000</td>\n",
       "      <td>0.899587</td>\n",
       "      <td>0.228588</td>\n",
       "    </tr>\n",
       "    <tr>\n",
       "      <th>5</th>\n",
       "      <td>12826</td>\n",
       "      <td>1.0</td>\n",
       "      <td>10.0</td>\n",
       "      <td>87.0</td>\n",
       "      <td>-6.600000</td>\n",
       "      <td>0.729433</td>\n",
       "      <td>0.290928</td>\n",
       "    </tr>\n",
       "    <tr>\n",
       "      <th>6</th>\n",
       "      <td>12828</td>\n",
       "      <td>2.0</td>\n",
       "      <td>31.0</td>\n",
       "      <td>39.0</td>\n",
       "      <td>94.255000</td>\n",
       "      <td>0.980444</td>\n",
       "      <td>0.956502</td>\n",
       "    </tr>\n",
       "    <tr>\n",
       "      <th>7</th>\n",
       "      <td>12830</td>\n",
       "      <td>4.0</td>\n",
       "      <td>80.0</td>\n",
       "      <td>80.0</td>\n",
       "      <td>1031.560000</td>\n",
       "      <td>0.994248</td>\n",
       "      <td>1.127919</td>\n",
       "    </tr>\n",
       "    <tr>\n",
       "      <th>8</th>\n",
       "      <td>12831</td>\n",
       "      <td>0.0</td>\n",
       "      <td>0.0</td>\n",
       "      <td>171.0</td>\n",
       "      <td>0.000000</td>\n",
       "      <td>1.000000</td>\n",
       "      <td>0.106220</td>\n",
       "    </tr>\n",
       "    <tr>\n",
       "      <th>9</th>\n",
       "      <td>12832</td>\n",
       "      <td>0.0</td>\n",
       "      <td>0.0</td>\n",
       "      <td>7.0</td>\n",
       "      <td>0.000000</td>\n",
       "      <td>1.000000</td>\n",
       "      <td>0.427482</td>\n",
       "    </tr>\n",
       "  </tbody>\n",
       "</table>\n",
       "</div>"
      ],
      "text/plain": [
       "  CustomerID  frequency  recency      T  monetary_value  Probability_Alive  \\\n",
       "0      12747        3.0    109.0  127.0      335.450000           0.987478   \n",
       "1      12748       49.0    175.0  175.0      170.096735           0.999612   \n",
       "2      12749        4.0    100.0  122.0      418.362500           0.988815   \n",
       "3      12821        0.0      0.0  123.0        0.000000           1.000000   \n",
       "4      12823        1.0    127.0  163.0      229.500000           0.899587   \n",
       "5      12826        1.0     10.0   87.0       -6.600000           0.729433   \n",
       "6      12828        2.0     31.0   39.0       94.255000           0.980444   \n",
       "7      12830        4.0     80.0   80.0     1031.560000           0.994248   \n",
       "8      12831        0.0      0.0  171.0        0.000000           1.000000   \n",
       "9      12832        0.0      0.0    7.0        0.000000           1.000000   \n",
       "\n",
       "   pred_num_trxn  \n",
       "0       0.645229  \n",
       "1       6.748396  \n",
       "2       0.841706  \n",
       "3       0.136121  \n",
       "4       0.228588  \n",
       "5       0.290928  \n",
       "6       0.956502  \n",
       "7       1.127919  \n",
       "8       0.106220  \n",
       "9       0.427482  "
      ]
     },
     "execution_count": 23,
     "metadata": {},
     "output_type": "execute_result"
    }
   ],
   "source": [
    "s.head(10)"
   ]
  },
  {
   "cell_type": "code",
   "execution_count": 24,
   "metadata": {},
   "outputs": [],
   "source": [
    "ret_s = s.loc[(s['frequency']>0) & (s['monetary_value']>0)]"
   ]
  },
  {
   "cell_type": "code",
   "execution_count": 25,
   "metadata": {},
   "outputs": [],
   "source": [
    "corr_matrix = ret_s[['frequency','monetary_value']].corr()"
   ]
  },
  {
   "cell_type": "code",
   "execution_count": 26,
   "metadata": {},
   "outputs": [
    {
     "data": {
      "text/html": [
       "<div>\n",
       "<style scoped>\n",
       "    .dataframe tbody tr th:only-of-type {\n",
       "        vertical-align: middle;\n",
       "    }\n",
       "\n",
       "    .dataframe tbody tr th {\n",
       "        vertical-align: top;\n",
       "    }\n",
       "\n",
       "    .dataframe thead th {\n",
       "        text-align: right;\n",
       "    }\n",
       "</style>\n",
       "<table border=\"1\" class=\"dataframe\">\n",
       "  <thead>\n",
       "    <tr style=\"text-align: right;\">\n",
       "      <th></th>\n",
       "      <th>frequency</th>\n",
       "      <th>monetary_value</th>\n",
       "    </tr>\n",
       "  </thead>\n",
       "  <tbody>\n",
       "    <tr>\n",
       "      <th>frequency</th>\n",
       "      <td>1.000000</td>\n",
       "      <td>0.264261</td>\n",
       "    </tr>\n",
       "    <tr>\n",
       "      <th>monetary_value</th>\n",
       "      <td>0.264261</td>\n",
       "      <td>1.000000</td>\n",
       "    </tr>\n",
       "  </tbody>\n",
       "</table>\n",
       "</div>"
      ],
      "text/plain": [
       "                frequency  monetary_value\n",
       "frequency        1.000000        0.264261\n",
       "monetary_value   0.264261        1.000000"
      ]
     },
     "execution_count": 26,
     "metadata": {},
     "output_type": "execute_result"
    }
   ],
   "source": [
    "corr_matrix"
   ]
  },
  {
   "cell_type": "code",
   "execution_count": 27,
   "metadata": {},
   "outputs": [],
   "source": [
    "ret_s['monetary_value'] = ret_s['monetary_value'].abs()"
   ]
  },
  {
   "cell_type": "code",
   "execution_count": 28,
   "metadata": {},
   "outputs": [],
   "source": [
    "ggf = lifetimes.GammaGammaFitter(penalizer_coef=0.001)\n",
    "model_money = ggf.fit(ret_s['frequency'],ret_s['monetary_value'])\n",
    "summary = ggf.summary"
   ]
  },
  {
   "cell_type": "code",
   "execution_count": 29,
   "metadata": {},
   "outputs": [
    {
     "data": {
      "text/html": [
       "<div>\n",
       "<style scoped>\n",
       "    .dataframe tbody tr th:only-of-type {\n",
       "        vertical-align: middle;\n",
       "    }\n",
       "\n",
       "    .dataframe tbody tr th {\n",
       "        vertical-align: top;\n",
       "    }\n",
       "\n",
       "    .dataframe thead th {\n",
       "        text-align: right;\n",
       "    }\n",
       "</style>\n",
       "<table border=\"1\" class=\"dataframe\">\n",
       "  <thead>\n",
       "    <tr style=\"text-align: right;\">\n",
       "      <th></th>\n",
       "      <th>coef</th>\n",
       "      <th>se(coef)</th>\n",
       "      <th>lower 95% bound</th>\n",
       "      <th>upper 95% bound</th>\n",
       "    </tr>\n",
       "  </thead>\n",
       "  <tbody>\n",
       "    <tr>\n",
       "      <th>p</th>\n",
       "      <td>6.722641</td>\n",
       "      <td>0.274232</td>\n",
       "      <td>6.185146</td>\n",
       "      <td>7.260136</td>\n",
       "    </tr>\n",
       "    <tr>\n",
       "      <th>q</th>\n",
       "      <td>0.726589</td>\n",
       "      <td>0.025489</td>\n",
       "      <td>0.676630</td>\n",
       "      <td>0.776548</td>\n",
       "    </tr>\n",
       "    <tr>\n",
       "      <th>v</th>\n",
       "      <td>11.428290</td>\n",
       "      <td>0.415795</td>\n",
       "      <td>10.613332</td>\n",
       "      <td>12.243249</td>\n",
       "    </tr>\n",
       "  </tbody>\n",
       "</table>\n",
       "</div>"
      ],
      "text/plain": [
       "        coef  se(coef)  lower 95% bound  upper 95% bound\n",
       "p   6.722641  0.274232         6.185146         7.260136\n",
       "q   0.726589  0.025489         0.676630         0.776548\n",
       "v  11.428290  0.415795        10.613332        12.243249"
      ]
     },
     "execution_count": 29,
     "metadata": {},
     "output_type": "execute_result"
    }
   ],
   "source": [
    "summary"
   ]
  },
  {
   "cell_type": "code",
   "execution_count": 30,
   "metadata": {},
   "outputs": [],
   "source": [
    "#Compute the Conditional Probability of Average Revenue\n",
    "s['exp_avg_sales'] = ggf.conditional_expected_average_profit(s['frequency'],s['monetary_value'])"
   ]
  },
  {
   "cell_type": "code",
   "execution_count": 31,
   "metadata": {},
   "outputs": [],
   "source": [
    "#CLV prediction\n",
    "s['CLTV'] = ggf.customer_lifetime_value(bgf, s['frequency'], s['recency'], \\\n",
    "                                       s['T'], s['monetary_value'],\\\n",
    "                                        time = 1,freq = 'D',discount_rate=0.06)"
   ]
  },
  {
   "cell_type": "code",
   "execution_count": 36,
   "metadata": {},
   "outputs": [
    {
     "data": {
      "text/html": [
       "<div>\n",
       "<style scoped>\n",
       "    .dataframe tbody tr th:only-of-type {\n",
       "        vertical-align: middle;\n",
       "    }\n",
       "\n",
       "    .dataframe tbody tr th {\n",
       "        vertical-align: top;\n",
       "    }\n",
       "\n",
       "    .dataframe thead th {\n",
       "        text-align: right;\n",
       "    }\n",
       "</style>\n",
       "<table border=\"1\" class=\"dataframe\">\n",
       "  <thead>\n",
       "    <tr style=\"text-align: right;\">\n",
       "      <th></th>\n",
       "      <th>CustomerID</th>\n",
       "      <th>frequency</th>\n",
       "      <th>recency</th>\n",
       "      <th>T</th>\n",
       "      <th>monetary_value</th>\n",
       "      <th>Probability_Alive</th>\n",
       "      <th>pred_num_trxn</th>\n",
       "      <th>exp_avg_sales</th>\n",
       "      <th>CLTV</th>\n",
       "      <th>Cluster</th>\n",
       "    </tr>\n",
       "  </thead>\n",
       "  <tbody>\n",
       "    <tr>\n",
       "      <th>0</th>\n",
       "      <td>12747</td>\n",
       "      <td>3.0</td>\n",
       "      <td>109.0</td>\n",
       "      <td>127.0</td>\n",
       "      <td>335.450000</td>\n",
       "      <td>0.987478</td>\n",
       "      <td>0.645229</td>\n",
       "      <td>343.921884</td>\n",
       "      <td>209.347484</td>\n",
       "      <td>0</td>\n",
       "    </tr>\n",
       "    <tr>\n",
       "      <th>1</th>\n",
       "      <td>12748</td>\n",
       "      <td>49.0</td>\n",
       "      <td>175.0</td>\n",
       "      <td>175.0</td>\n",
       "      <td>170.096735</td>\n",
       "      <td>0.999612</td>\n",
       "      <td>6.748396</td>\n",
       "      <td>170.471457</td>\n",
       "      <td>1085.291415</td>\n",
       "      <td>0</td>\n",
       "    </tr>\n",
       "    <tr>\n",
       "      <th>2</th>\n",
       "      <td>12749</td>\n",
       "      <td>4.0</td>\n",
       "      <td>100.0</td>\n",
       "      <td>122.0</td>\n",
       "      <td>418.362500</td>\n",
       "      <td>0.988815</td>\n",
       "      <td>0.841706</td>\n",
       "      <td>425.546333</td>\n",
       "      <td>337.910421</td>\n",
       "      <td>0</td>\n",
       "    </tr>\n",
       "    <tr>\n",
       "      <th>3</th>\n",
       "      <td>12821</td>\n",
       "      <td>0.0</td>\n",
       "      <td>0.0</td>\n",
       "      <td>123.0</td>\n",
       "      <td>0.000000</td>\n",
       "      <td>1.000000</td>\n",
       "      <td>0.136121</td>\n",
       "      <td>-280.999311</td>\n",
       "      <td>-36.084724</td>\n",
       "      <td>0</td>\n",
       "    </tr>\n",
       "    <tr>\n",
       "      <th>4</th>\n",
       "      <td>12823</td>\n",
       "      <td>1.0</td>\n",
       "      <td>127.0</td>\n",
       "      <td>163.0</td>\n",
       "      <td>229.500000</td>\n",
       "      <td>0.899587</td>\n",
       "      <td>0.228588</td>\n",
       "      <td>251.142290</td>\n",
       "      <td>54.158577</td>\n",
       "      <td>0</td>\n",
       "    </tr>\n",
       "    <tr>\n",
       "      <th>5</th>\n",
       "      <td>12826</td>\n",
       "      <td>1.0</td>\n",
       "      <td>10.0</td>\n",
       "      <td>87.0</td>\n",
       "      <td>-6.600000</td>\n",
       "      <td>0.729433</td>\n",
       "      <td>0.290928</td>\n",
       "      <td>5.032983</td>\n",
       "      <td>1.381354</td>\n",
       "      <td>0</td>\n",
       "    </tr>\n",
       "    <tr>\n",
       "      <th>6</th>\n",
       "      <td>12828</td>\n",
       "      <td>2.0</td>\n",
       "      <td>31.0</td>\n",
       "      <td>39.0</td>\n",
       "      <td>94.255000</td>\n",
       "      <td>0.980444</td>\n",
       "      <td>0.956502</td>\n",
       "      <td>102.044223</td>\n",
       "      <td>92.080686</td>\n",
       "      <td>0</td>\n",
       "    </tr>\n",
       "    <tr>\n",
       "      <th>7</th>\n",
       "      <td>12830</td>\n",
       "      <td>4.0</td>\n",
       "      <td>80.0</td>\n",
       "      <td>80.0</td>\n",
       "      <td>1031.560000</td>\n",
       "      <td>0.994248</td>\n",
       "      <td>1.127919</td>\n",
       "      <td>1045.042588</td>\n",
       "      <td>1112.003016</td>\n",
       "      <td>0</td>\n",
       "    </tr>\n",
       "    <tr>\n",
       "      <th>8</th>\n",
       "      <td>12831</td>\n",
       "      <td>0.0</td>\n",
       "      <td>0.0</td>\n",
       "      <td>171.0</td>\n",
       "      <td>0.000000</td>\n",
       "      <td>1.000000</td>\n",
       "      <td>0.106220</td>\n",
       "      <td>-280.999311</td>\n",
       "      <td>-28.158243</td>\n",
       "      <td>0</td>\n",
       "    </tr>\n",
       "    <tr>\n",
       "      <th>9</th>\n",
       "      <td>12832</td>\n",
       "      <td>0.0</td>\n",
       "      <td>0.0</td>\n",
       "      <td>7.0</td>\n",
       "      <td>0.000000</td>\n",
       "      <td>1.000000</td>\n",
       "      <td>0.427482</td>\n",
       "      <td>-280.999311</td>\n",
       "      <td>-113.322753</td>\n",
       "      <td>0</td>\n",
       "    </tr>\n",
       "  </tbody>\n",
       "</table>\n",
       "</div>"
      ],
      "text/plain": [
       "  CustomerID  frequency  recency      T  monetary_value  Probability_Alive  \\\n",
       "0      12747        3.0    109.0  127.0      335.450000           0.987478   \n",
       "1      12748       49.0    175.0  175.0      170.096735           0.999612   \n",
       "2      12749        4.0    100.0  122.0      418.362500           0.988815   \n",
       "3      12821        0.0      0.0  123.0        0.000000           1.000000   \n",
       "4      12823        1.0    127.0  163.0      229.500000           0.899587   \n",
       "5      12826        1.0     10.0   87.0       -6.600000           0.729433   \n",
       "6      12828        2.0     31.0   39.0       94.255000           0.980444   \n",
       "7      12830        4.0     80.0   80.0     1031.560000           0.994248   \n",
       "8      12831        0.0      0.0  171.0        0.000000           1.000000   \n",
       "9      12832        0.0      0.0    7.0        0.000000           1.000000   \n",
       "\n",
       "   pred_num_trxn  exp_avg_sales         CLTV  Cluster  \n",
       "0       0.645229     343.921884   209.347484        0  \n",
       "1       6.748396     170.471457  1085.291415        0  \n",
       "2       0.841706     425.546333   337.910421        0  \n",
       "3       0.136121    -280.999311   -36.084724        0  \n",
       "4       0.228588     251.142290    54.158577        0  \n",
       "5       0.290928       5.032983     1.381354        0  \n",
       "6       0.956502     102.044223    92.080686        0  \n",
       "7       1.127919    1045.042588  1112.003016        0  \n",
       "8       0.106220    -280.999311   -28.158243        0  \n",
       "9       0.427482    -280.999311  -113.322753        0  "
      ]
     },
     "execution_count": 36,
     "metadata": {},
     "output_type": "execute_result"
    }
   ],
   "source": [
    "s.head(10)"
   ]
  },
  {
   "cell_type": "code",
   "execution_count": 33,
   "metadata": {},
   "outputs": [],
   "source": [
    "from sklearn.cluster import KMeans\n",
    "#Cluster the RFM part\n",
    "kmeans = KMeans(n_clusters=3)\n",
    "k_fit = kmeans.fit_predict(s[['CLTV']])\n",
    "s['Cluster'] = k_fit"
   ]
  },
  {
   "cell_type": "code",
   "execution_count": 35,
   "metadata": {},
   "outputs": [
    {
     "data": {
      "text/html": [
       "<div>\n",
       "<style scoped>\n",
       "    .dataframe tbody tr th:only-of-type {\n",
       "        vertical-align: middle;\n",
       "    }\n",
       "\n",
       "    .dataframe tbody tr th {\n",
       "        vertical-align: top;\n",
       "    }\n",
       "\n",
       "    .dataframe thead th {\n",
       "        text-align: right;\n",
       "    }\n",
       "</style>\n",
       "<table border=\"1\" class=\"dataframe\">\n",
       "  <thead>\n",
       "    <tr style=\"text-align: right;\">\n",
       "      <th></th>\n",
       "      <th>count</th>\n",
       "      <th>mean</th>\n",
       "      <th>std</th>\n",
       "      <th>min</th>\n",
       "      <th>25%</th>\n",
       "      <th>50%</th>\n",
       "      <th>75%</th>\n",
       "      <th>max</th>\n",
       "    </tr>\n",
       "    <tr>\n",
       "      <th>Cluster</th>\n",
       "      <th></th>\n",
       "      <th></th>\n",
       "      <th></th>\n",
       "      <th></th>\n",
       "      <th></th>\n",
       "      <th></th>\n",
       "      <th></th>\n",
       "      <th></th>\n",
       "    </tr>\n",
       "  </thead>\n",
       "  <tbody>\n",
       "    <tr>\n",
       "      <th>0</th>\n",
       "      <td>2521.0</td>\n",
       "      <td>75.951618</td>\n",
       "      <td>196.991424</td>\n",
       "      <td>-206.442112</td>\n",
       "      <td>-38.096011</td>\n",
       "      <td>24.229419</td>\n",
       "      <td>124.604644</td>\n",
       "      <td>1673.846906</td>\n",
       "    </tr>\n",
       "    <tr>\n",
       "      <th>1</th>\n",
       "      <td>1.0</td>\n",
       "      <td>62241.019019</td>\n",
       "      <td>NaN</td>\n",
       "      <td>62241.019019</td>\n",
       "      <td>62241.019019</td>\n",
       "      <td>62241.019019</td>\n",
       "      <td>62241.019019</td>\n",
       "      <td>62241.019019</td>\n",
       "    </tr>\n",
       "    <tr>\n",
       "      <th>2</th>\n",
       "      <td>18.0</td>\n",
       "      <td>3814.410149</td>\n",
       "      <td>2539.776242</td>\n",
       "      <td>1951.033550</td>\n",
       "      <td>2275.382606</td>\n",
       "      <td>2938.072599</td>\n",
       "      <td>3790.582661</td>\n",
       "      <td>12241.738306</td>\n",
       "    </tr>\n",
       "  </tbody>\n",
       "</table>\n",
       "</div>"
      ],
      "text/plain": [
       "          count          mean          std           min           25%  \\\n",
       "Cluster                                                                  \n",
       "0        2521.0     75.951618   196.991424   -206.442112    -38.096011   \n",
       "1           1.0  62241.019019          NaN  62241.019019  62241.019019   \n",
       "2          18.0   3814.410149  2539.776242   1951.033550   2275.382606   \n",
       "\n",
       "                  50%           75%           max  \n",
       "Cluster                                            \n",
       "0           24.229419    124.604644   1673.846906  \n",
       "1        62241.019019  62241.019019  62241.019019  \n",
       "2         2938.072599   3790.582661  12241.738306  "
      ]
     },
     "execution_count": 35,
     "metadata": {},
     "output_type": "execute_result"
    }
   ],
   "source": [
    "s.groupby(['Cluster'])['CLTV'].describe()"
   ]
  },
  {
   "cell_type": "code",
   "execution_count": 39,
   "metadata": {},
   "outputs": [],
   "source": [
    "tx_3M_12749 = tx_3M.loc[tx_3M['CustomerID']=='12749']"
   ]
  },
  {
   "cell_type": "code",
   "execution_count": 44,
   "metadata": {},
   "outputs": [],
   "source": [
    "tx_12749 = tx_3M_12749.groupby(['CustomerID']).agg(InvoiceCount = ('InvoiceNo','count'),UnitPrice = ('UnitPrice','mean'),Qty = ('Quantity','mean')).reset_index()"
   ]
  },
  {
   "cell_type": "code",
   "execution_count": 45,
   "metadata": {},
   "outputs": [
    {
     "data": {
      "text/html": [
       "<div>\n",
       "<style scoped>\n",
       "    .dataframe tbody tr th:only-of-type {\n",
       "        vertical-align: middle;\n",
       "    }\n",
       "\n",
       "    .dataframe tbody tr th {\n",
       "        vertical-align: top;\n",
       "    }\n",
       "\n",
       "    .dataframe thead th {\n",
       "        text-align: right;\n",
       "    }\n",
       "</style>\n",
       "<table border=\"1\" class=\"dataframe\">\n",
       "  <thead>\n",
       "    <tr style=\"text-align: right;\">\n",
       "      <th></th>\n",
       "      <th>CustomerID</th>\n",
       "      <th>InvoiceCount</th>\n",
       "      <th>UnitPrice</th>\n",
       "      <th>Qty</th>\n",
       "    </tr>\n",
       "  </thead>\n",
       "  <tbody>\n",
       "    <tr>\n",
       "      <th>0</th>\n",
       "      <td>12749</td>\n",
       "      <td>71</td>\n",
       "      <td>5.449577</td>\n",
       "      <td>5.507042</td>\n",
       "    </tr>\n",
       "  </tbody>\n",
       "</table>\n",
       "</div>"
      ],
      "text/plain": [
       "  CustomerID  InvoiceCount  UnitPrice       Qty\n",
       "0      12749            71   5.449577  5.507042"
      ]
     },
     "execution_count": 45,
     "metadata": {},
     "output_type": "execute_result"
    }
   ],
   "source": [
    "tx_12749"
   ]
  },
  {
   "cell_type": "code",
   "execution_count": 47,
   "metadata": {},
   "outputs": [
    {
     "data": {
      "text/plain": [
       "710.2615962441314"
      ]
     },
     "execution_count": 47,
     "metadata": {},
     "output_type": "execute_result"
    }
   ],
   "source": [
    "(386.92*391/71)/3"
   ]
  },
  {
   "cell_type": "code",
   "execution_count": null,
   "metadata": {},
   "outputs": [],
   "source": []
  }
 ],
 "metadata": {
  "kernelspec": {
   "display_name": "Python 3",
   "language": "python",
   "name": "python3"
  },
  "language_info": {
   "codemirror_mode": {
    "name": "ipython",
    "version": 3
   },
   "file_extension": ".py",
   "mimetype": "text/x-python",
   "name": "python",
   "nbconvert_exporter": "python",
   "pygments_lexer": "ipython3",
   "version": "3.8.5"
  }
 },
 "nbformat": 4,
 "nbformat_minor": 4
}
