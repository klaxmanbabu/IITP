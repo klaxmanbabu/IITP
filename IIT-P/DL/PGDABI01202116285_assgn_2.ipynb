{
  "nbformat": 4,
  "nbformat_minor": 0,
  "metadata": {
    "colab": {
      "name": "PGDABI01202116285_assgn2.ipynb",
      "provenance": [],
      "collapsed_sections": []
    },
    "kernelspec": {
      "name": "python3",
      "display_name": "Python 3"
    }
  },
  "cells": [
    {
      "cell_type": "code",
      "metadata": {
        "id": "OiNaOAyofxxk"
      },
      "source": [
        "from __future__ import print_function\r\n",
        "\r\n",
        "import datetime\r\n",
        "import keras\r\n",
        "from keras.datasets import mnist\r\n",
        "from keras.models import Sequential\r\n",
        "from keras.layers import Dense, Dropout, Activation, Flatten\r\n",
        "from keras.layers import Conv2D, MaxPooling2D\r\n",
        "from keras import backend as K\r\n",
        "import numpy as np\r\n",
        "\r\n",
        "now = datetime.datetime.now"
      ],
      "execution_count": 1,
      "outputs": []
    },
    {
      "cell_type": "code",
      "metadata": {
        "id": "imgl72ykgN8f"
      },
      "source": [
        "batch_size = 128 # no.of elements to be used for one iteration\r\n",
        "num_classes =10   # no. of classes for training\r\n",
        "epochs = 8        # how many times the whole dataset should be iterated\r\n",
        "\r\n",
        "# input image dimensions\r\n",
        "img_rows, img_cols = 28, 28\r\n",
        "# number of convolutional filters to use\r\n",
        "filters = 32\r\n",
        "# size of pooling area for max pooling\r\n",
        "pool_size = 2\r\n",
        "# convolution kernel size \r\n",
        "kernel_size = 8  \r\n",
        "\r\n",
        "if K.image_data_format() == 'channels_first':  # channels mean no. of color channels of the image\r\n",
        "    input_shape = (1, img_rows, img_cols)\r\n",
        "else:\r\n",
        "    input_shape = (img_rows, img_cols, 1)    # tensorflow uses channels_last config by default"
      ],
      "execution_count": 3,
      "outputs": []
    },
    {
      "cell_type": "code",
      "metadata": {
        "id": "L8yEOPqwh8an"
      },
      "source": [
        "def train_model(model, train, test, num_classes):\r\n",
        "    x_train = train[0].reshape((train[0].shape[0],) + input_shape)\r\n",
        "    x_test = test[0].reshape((test[0].shape[0],) + input_shape)\r\n",
        "    x_train = x_train.astype('float32')\r\n",
        "    x_test = x_test.astype('float32')\r\n",
        "    x_train /= 255\r\n",
        "    x_test /= 255\r\n",
        "    print('x_train shape:', x_train.shape)\r\n",
        "    print(x_train.shape[0], 'train samples')\r\n",
        "    print(x_test.shape[0], 'test samples')\r\n",
        "\r\n",
        "    # convert class vectors to binary class matrices\r\n",
        "    y_train = keras.utils.to_categorical(train[1], num_classes)\r\n",
        "    y_test = keras.utils.to_categorical(test[1], num_classes)\r\n",
        "\r\n",
        "    # compile the model\r\n",
        "    # you can chnage the parameters in this compile function\r\n",
        "    # custom funtions for loss and opitizer can be used: ref to keras documentation for more\r\n",
        "    model.compile(loss='categorical_crossentropy',\r\n",
        "                  optimizer='adadelta',\r\n",
        "                  metrics=['accuracy'])\r\n",
        "\r\n",
        "    # Train the model\r\n",
        "    t = now()\r\n",
        "    hist = model.fit(x_train, y_train,\r\n",
        "              batch_size=batch_size,\r\n",
        "              epochs=epochs,\r\n",
        "              verbose=1,\r\n",
        "              validation_data=(x_test, y_test))\r\n",
        "    score = model.evaluate(x_test, y_test, verbose=0)\r\n",
        "    print('Training time: %s' % (now() - t))\r\n",
        "    print('Test score:', score[0])\r\n",
        "    print('Test accuracy:', score[1])\r\n",
        "    return hist"
      ],
      "execution_count": 4,
      "outputs": []
    },
    {
      "cell_type": "code",
      "metadata": {
        "id": "967-598-iDYX"
      },
      "source": [
        "# Get the data, split between train and test sets\r\n",
        "(x_train, y_train), (x_test, y_test) = mnist.load_data()"
      ],
      "execution_count": 6,
      "outputs": []
    },
    {
      "cell_type": "code",
      "metadata": {
        "colab": {
          "base_uri": "https://localhost:8080/"
        },
        "id": "nP7p7lztl4QQ",
        "outputId": "d5a3f23d-a897-40ca-eff2-79c976f1c225"
      },
      "source": [
        "classes = np.unique(y_train)\r\n",
        "classes_num = len(classes)\r\n",
        "print('Unique output classes : ', classes)\r\n",
        "print('Total number of outputs : ', classes_num)"
      ],
      "execution_count": 7,
      "outputs": [
        {
          "output_type": "stream",
          "text": [
            "Unique output classes :  [0 1 2 3 4 5 6 7 8 9]\n",
            "Total number of outputs :  10\n"
          ],
          "name": "stdout"
        }
      ]
    },
    {
      "cell_type": "code",
      "metadata": {
        "colab": {
          "base_uri": "https://localhost:8080/"
        },
        "id": "aHF8tu0Bp-wv",
        "outputId": "2032ffbe-0761-4c8f-d5d2-2493674b01a7"
      },
      "source": [
        "# create two datasets\r\n",
        "# one with digits below 5 \r\n",
        "x_train = x_train[y_train < 5]\r\n",
        "y_train = y_train[y_train < 5]\r\n",
        "x_test = x_test[y_test < 5]\r\n",
        "y_test = y_test[y_test < 5]\r\n",
        "print(x_train.shape)\r\n",
        "print(x_train[y_train<5].shape)\r\n"
      ],
      "execution_count": 8,
      "outputs": [
        {
          "output_type": "stream",
          "text": [
            "(30596, 28, 28)\n",
            "(30596, 28, 28)\n"
          ],
          "name": "stdout"
        }
      ]
    },
    {
      "cell_type": "code",
      "metadata": {
        "id": "p-kY07KyilHw"
      },
      "source": [
        "# define two groups of layers: feature (convolutions) and classification (dense)\r\n",
        "feature_layers = [\r\n",
        "    Conv2D(filters, kernel_size=(3,3),padding='valid',input_shape=input_shape),Activation('relu'),\r\n",
        "    Conv2D(filters, kernel_size=(3,3),padding='valid'),Activation('relu'),\r\n",
        "    Conv2D(filters, kernel_size=(3,3),padding='valid'),Activation('relu'),\r\n",
        "    Conv2D(filters, kernel_size=(3,3),padding='valid'),Activation('relu'),\r\n",
        "    MaxPooling2D(pool_size=pool_size),\r\n",
        "    Dropout(0.25),\r\n",
        "    Flatten(),\r\n",
        "]\r\n",
        "\r\n",
        "classification_layers = [\r\n",
        "    Dense(128),\r\n",
        "    Activation('relu'),\r\n",
        "    Dropout(0.5),\r\n",
        "    Dense(num_classes),\r\n",
        "    Activation('softmax')\r\n",
        "]"
      ],
      "execution_count": 9,
      "outputs": []
    },
    {
      "cell_type": "code",
      "metadata": {
        "id": "m7EFIynniqb-"
      },
      "source": [
        "# create complete model\r\n",
        "model = Sequential(feature_layers+classification_layers)"
      ],
      "execution_count": 10,
      "outputs": []
    },
    {
      "cell_type": "code",
      "metadata": {
        "colab": {
          "base_uri": "https://localhost:8080/"
        },
        "id": "CPPkjuOFkIGB",
        "outputId": "91186a02-8a37-4ef4-96a9-28dcda504b6f"
      },
      "source": [
        "model.summary()"
      ],
      "execution_count": 11,
      "outputs": [
        {
          "output_type": "stream",
          "text": [
            "Model: \"sequential\"\n",
            "_________________________________________________________________\n",
            "Layer (type)                 Output Shape              Param #   \n",
            "=================================================================\n",
            "conv2d (Conv2D)              (None, 26, 26, 32)        320       \n",
            "_________________________________________________________________\n",
            "activation (Activation)      (None, 26, 26, 32)        0         \n",
            "_________________________________________________________________\n",
            "conv2d_1 (Conv2D)            (None, 24, 24, 32)        9248      \n",
            "_________________________________________________________________\n",
            "activation_1 (Activation)    (None, 24, 24, 32)        0         \n",
            "_________________________________________________________________\n",
            "conv2d_2 (Conv2D)            (None, 22, 22, 32)        9248      \n",
            "_________________________________________________________________\n",
            "activation_2 (Activation)    (None, 22, 22, 32)        0         \n",
            "_________________________________________________________________\n",
            "conv2d_3 (Conv2D)            (None, 20, 20, 32)        9248      \n",
            "_________________________________________________________________\n",
            "activation_3 (Activation)    (None, 20, 20, 32)        0         \n",
            "_________________________________________________________________\n",
            "max_pooling2d (MaxPooling2D) (None, 10, 10, 32)        0         \n",
            "_________________________________________________________________\n",
            "dropout (Dropout)            (None, 10, 10, 32)        0         \n",
            "_________________________________________________________________\n",
            "flatten (Flatten)            (None, 3200)              0         \n",
            "_________________________________________________________________\n",
            "dense (Dense)                (None, 128)               409728    \n",
            "_________________________________________________________________\n",
            "activation_4 (Activation)    (None, 128)               0         \n",
            "_________________________________________________________________\n",
            "dropout_1 (Dropout)          (None, 128)               0         \n",
            "_________________________________________________________________\n",
            "dense_1 (Dense)              (None, 10)                1290      \n",
            "_________________________________________________________________\n",
            "activation_5 (Activation)    (None, 10)                0         \n",
            "=================================================================\n",
            "Total params: 439,082\n",
            "Trainable params: 439,082\n",
            "Non-trainable params: 0\n",
            "_________________________________________________________________\n"
          ],
          "name": "stdout"
        }
      ]
    },
    {
      "cell_type": "code",
      "metadata": {
        "colab": {
          "base_uri": "https://localhost:8080/"
        },
        "id": "VhfIrbiEitwl",
        "outputId": "b6e903bd-a1d3-4cfd-dd4c-6ebea8535396"
      },
      "source": [
        "# train model for 5-digit classification [0..4]\r\n",
        "h_org = train_model(model,(x_train, y_train), (x_test, y_test), num_classes)"
      ],
      "execution_count": 12,
      "outputs": [
        {
          "output_type": "stream",
          "text": [
            "x_train shape: (30596, 28, 28, 1)\n",
            "30596 train samples\n",
            "5139 test samples\n",
            "Epoch 1/8\n",
            "240/240 [==============================] - 99s 407ms/step - loss: 2.3189 - accuracy: 0.0417 - val_loss: 2.2865 - val_accuracy: 0.1771\n",
            "Epoch 2/8\n",
            "240/240 [==============================] - 97s 404ms/step - loss: 2.2829 - accuracy: 0.1504 - val_loss: 2.2425 - val_accuracy: 0.4744\n",
            "Epoch 3/8\n",
            "240/240 [==============================] - 97s 404ms/step - loss: 2.2370 - accuracy: 0.2708 - val_loss: 2.1710 - val_accuracy: 0.5209\n",
            "Epoch 4/8\n",
            "240/240 [==============================] - 99s 411ms/step - loss: 2.1582 - accuracy: 0.3249 - val_loss: 2.0308 - val_accuracy: 0.5028\n",
            "Epoch 5/8\n",
            "240/240 [==============================] - 101s 420ms/step - loss: 2.0047 - accuracy: 0.3412 - val_loss: 1.7636 - val_accuracy: 0.5055\n",
            "Epoch 6/8\n",
            "240/240 [==============================] - 97s 404ms/step - loss: 1.7656 - accuracy: 0.3597 - val_loss: 1.4453 - val_accuracy: 0.6060\n",
            "Epoch 7/8\n",
            "240/240 [==============================] - 97s 404ms/step - loss: 1.5255 - accuracy: 0.4186 - val_loss: 1.1515 - val_accuracy: 0.7140\n",
            "Epoch 8/8\n",
            "240/240 [==============================] - 98s 407ms/step - loss: 1.3090 - accuracy: 0.5146 - val_loss: 0.8845 - val_accuracy: 0.8727\n",
            "Training time: 0:13:07.756499\n",
            "Test score: 0.8845495581626892\n",
            "Test accuracy: 0.8727378845214844\n"
          ],
          "name": "stdout"
        }
      ]
    },
    {
      "cell_type": "code",
      "metadata": {
        "colab": {
          "base_uri": "https://localhost:8080/"
        },
        "id": "OpG8poU5lF-O",
        "outputId": "c0128de6-90f8-4815-9e47-0fa36d1d8f05"
      },
      "source": [
        "print(type(h_org))\r\n",
        "print(h_org.history.keys())\r\n",
        "print(model.metrics_names)"
      ],
      "execution_count": 13,
      "outputs": [
        {
          "output_type": "stream",
          "text": [
            "<class 'tensorflow.python.keras.callbacks.History'>\n",
            "dict_keys(['loss', 'accuracy', 'val_loss', 'val_accuracy'])\n",
            "['loss', 'accuracy']\n"
          ],
          "name": "stdout"
        }
      ]
    },
    {
      "cell_type": "code",
      "metadata": {
        "colab": {
          "base_uri": "https://localhost:8080/",
          "height": 295
        },
        "id": "SH4AfFNGlO8p",
        "outputId": "70adbf93-2234-44a4-85ae-0b19d33b5a36"
      },
      "source": [
        "# plot accuracy over the epochs\r\n",
        "from matplotlib import pyplot as plt\r\n",
        "plt.plot(h_org.history['accuracy'],'r')\r\n",
        "plt.plot(h_org.history['val_accuracy'],'b')\r\n",
        "plt.title('model accuracy')\r\n",
        "plt.ylabel('accuracy')\r\n",
        "plt.xlabel('epoch')\r\n",
        "plt.legend(['training', 'validation'], loc='center right')\r\n",
        "plt.show()"
      ],
      "execution_count": 14,
      "outputs": [
        {
          "output_type": "display_data",
          "data": {
            "image/png": "[encoded data removed]",
            "text/plain": [
              "<Figure size 432x288 with 1 Axes>"
            ]
          },
          "metadata": {
            "tags": [],
            "needs_background": "light"
          }
        }
      ]
    },
    {
      "cell_type": "code",
      "metadata": {
        "colab": {
          "base_uri": "https://localhost:8080/",
          "height": 295
        },
        "id": "6E7YKPoPlSnF",
        "outputId": "d796d133-49a1-4c8c-f6d0-745d315e2944"
      },
      "source": [
        "# Behviour of loss over the epochs\r\n",
        "\r\n",
        "plt.plot(h_org.history['loss'],'g')\r\n",
        "plt.plot(h_org.history['val_loss'],'b')\r\n",
        "plt.title('model loss')\r\n",
        "plt.ylabel('loss')\r\n",
        "plt.xlabel('epoch')\r\n",
        "plt.legend(['training', 'validation'], loc='upper right')\r\n",
        "plt.show()"
      ],
      "execution_count": 15,
      "outputs": [
        {
          "output_type": "display_data",
          "data": {
            "image/png": "[encoded data removed]",
            "text/plain": [
              "<Figure size 432x288 with 1 Axes>"
            ]
          },
          "metadata": {
            "tags": [],
            "needs_background": "light"
          }
        }
      ]
    },
    {
      "cell_type": "code",
      "metadata": {
        "id": "zHYBlbnhlW5k"
      },
      "source": [
        "# freeze feature layers and rebuild model\r\n",
        "# defining and segregating the two groups of layers: non-trainable (3 Conv Layers) and \r\n",
        "#trainable (1 Conv layer and 2 dense layers)\r\n",
        "\r\n",
        "# marking layers which are not to be trained\r\n",
        "model.get_layer('conv2d').trainable = False\r\n",
        "model.get_layer('conv2d_1').trainable = False\r\n",
        "model.get_layer('conv2d_2').trainable = False\r\n"
      ],
      "execution_count": 17,
      "outputs": []
    },
    {
      "cell_type": "code",
      "metadata": {
        "id": "DxJyVxi9HTte"
      },
      "source": [
        "#running the model on Fashion Mnist data \r\n",
        "from keras.datasets import fashion_mnist"
      ],
      "execution_count": 18,
      "outputs": []
    },
    {
      "cell_type": "code",
      "metadata": {
        "colab": {
          "base_uri": "https://localhost:8080/"
        },
        "id": "6Tn5yhE0HgSG",
        "outputId": "9a857cd3-e407-45df-dfbe-22671746604c"
      },
      "source": [
        "# Get the dataset\r\n",
        "\r\n",
        "(X_train, Y_train), (X_test, Y_test) = fashion_mnist.load_data() \t#Keras function\r\n",
        "\r\n",
        "print (\"fashion_mnist data downloaded...\")"
      ],
      "execution_count": 19,
      "outputs": [
        {
          "output_type": "stream",
          "text": [
            "Downloading data from https://storage.googleapis.com/tensorflow/tf-keras-datasets/train-labels-idx1-ubyte.gz\n",
            "32768/29515 [=================================] - 0s 0us/step\n",
            "Downloading data from https://storage.googleapis.com/tensorflow/tf-keras-datasets/train-images-idx3-ubyte.gz\n",
            "26427392/26421880 [==============================] - 0s 0us/step\n",
            "Downloading data from https://storage.googleapis.com/tensorflow/tf-keras-datasets/t10k-labels-idx1-ubyte.gz\n",
            "8192/5148 [===============================================] - 0s 0us/step\n",
            "Downloading data from https://storage.googleapis.com/tensorflow/tf-keras-datasets/t10k-images-idx3-ubyte.gz\n",
            "4423680/4422102 [==============================] - 0s 0us/step\n",
            "fashion_mnist data downloaded...\n"
          ],
          "name": "stdout"
        }
      ]
    },
    {
      "cell_type": "code",
      "metadata": {
        "colab": {
          "base_uri": "https://localhost:8080/"
        },
        "id": "2SHNT1m3rn3w",
        "outputId": "ed767c0c-3446-4f6b-cbcc-613fe8cf89dd"
      },
      "source": [
        "classes = np.unique(Y_train)\r\n",
        "classes_num = len(classes)\r\n",
        "print('Unique output classes : ', classes)\r\n",
        "print('Total number of outputs : ', classes_num)"
      ],
      "execution_count": 20,
      "outputs": [
        {
          "output_type": "stream",
          "text": [
            "Unique output classes :  [0 1 2 3 4 5 6 7 8 9]\n",
            "Total number of outputs :  10\n"
          ],
          "name": "stdout"
        }
      ]
    },
    {
      "cell_type": "code",
      "metadata": {
        "id": "RkROTD_sg8Dz"
      },
      "source": [
        "# create two datasets\r\n",
        "# one with digits below 5 \r\n",
        "x_train_fs = X_train[Y_train >= 5]\r\n",
        "y_train_fs = Y_train[Y_train >= 5] - 5\r\n",
        "x_test_fs = X_test[Y_test >= 5]\r\n",
        "y_test_fs = Y_test[Y_test >= 5] - 5 \r\n"
      ],
      "execution_count": 21,
      "outputs": []
    },
    {
      "cell_type": "code",
      "metadata": {
        "colab": {
          "base_uri": "https://localhost:8080/"
        },
        "id": "geZPrLNcuMr2",
        "outputId": "6c8b4e5e-09ea-459c-90c2-517656f50a34"
      },
      "source": [
        "print(x_train_fs.shape)\r\n",
        "print(x_test_fs.shape)"
      ],
      "execution_count": 22,
      "outputs": [
        {
          "output_type": "stream",
          "text": [
            "(30000, 28, 28)\n",
            "(5000, 28, 28)\n"
          ],
          "name": "stdout"
        }
      ]
    },
    {
      "cell_type": "code",
      "metadata": {
        "colab": {
          "base_uri": "https://localhost:8080/"
        },
        "id": "0eFqh4NdlaaH",
        "outputId": "a2818932-3784-467a-ee8f-fdf09ec21fdf"
      },
      "source": [
        "# transfer: train dense layers for new classification task\r\n",
        "h_retr = train_model(model,(x_train_fs, y_train_fs),(x_test, y_test),num_classes)"
      ],
      "execution_count": 23,
      "outputs": [
        {
          "output_type": "stream",
          "text": [
            "x_train shape: (30000, 28, 28, 1)\n",
            "30000 train samples\n",
            "5139 test samples\n",
            "Epoch 1/8\n",
            "235/235 [==============================] - 39s 166ms/step - loss: 2.4764 - accuracy: 0.1583 - val_loss: 0.9462 - val_accuracy: 0.8463\n",
            "Epoch 2/8\n",
            "235/235 [==============================] - 39s 167ms/step - loss: 2.1871 - accuracy: 0.1802 - val_loss: 1.0293 - val_accuracy: 0.7963\n",
            "Epoch 3/8\n",
            "235/235 [==============================] - 38s 163ms/step - loss: 2.0032 - accuracy: 0.2062 - val_loss: 1.1061 - val_accuracy: 0.7412\n",
            "Epoch 4/8\n",
            "235/235 [==============================] - 38s 163ms/step - loss: 1.8651 - accuracy: 0.2391 - val_loss: 1.1708 - val_accuracy: 0.6916\n",
            "Epoch 5/8\n",
            "235/235 [==============================] - 39s 166ms/step - loss: 1.7408 - accuracy: 0.2845 - val_loss: 1.2261 - val_accuracy: 0.6458\n",
            "Epoch 6/8\n",
            "235/235 [==============================] - 39s 165ms/step - loss: 1.6251 - accuracy: 0.3364 - val_loss: 1.2796 - val_accuracy: 0.6005\n",
            "Epoch 7/8\n",
            "235/235 [==============================] - 39s 165ms/step - loss: 1.5122 - accuracy: 0.3920 - val_loss: 1.3229 - val_accuracy: 0.5630\n",
            "Epoch 8/8\n",
            "235/235 [==============================] - 39s 166ms/step - loss: 1.4124 - accuracy: 0.4502 - val_loss: 1.3668 - val_accuracy: 0.5124\n",
            "Training time: 0:05:14.558201\n",
            "Test score: 1.3668478727340698\n",
            "Test accuracy: 0.5123564600944519\n"
          ],
          "name": "stdout"
        }
      ]
    },
    {
      "cell_type": "code",
      "metadata": {
        "id": "2rUIMwEjnMC1",
        "colab": {
          "base_uri": "https://localhost:8080/"
        },
        "outputId": "6f4f8f1b-6363-4576-87f5-5f2da325d966"
      },
      "source": [
        "print(h_retr.history.keys())"
      ],
      "execution_count": 24,
      "outputs": [
        {
          "output_type": "stream",
          "text": [
            "dict_keys(['loss', 'accuracy', 'val_loss', 'val_accuracy'])\n"
          ],
          "name": "stdout"
        }
      ]
    },
    {
      "cell_type": "code",
      "metadata": {
        "id": "akvPgDRpnPxF",
        "colab": {
          "base_uri": "https://localhost:8080/",
          "height": 295
        },
        "outputId": "c8439655-cde4-40ef-dc32-77225b62ced8"
      },
      "source": [
        "# plot accuracy over the epochs\r\n",
        "from matplotlib import pyplot as plt\r\n",
        "plt.plot(h_retr.history['accuracy'],'r')\r\n",
        "plt.plot(h_retr.history['val_accuracy'],'b')\r\n",
        "plt.title('model accuracy')\r\n",
        "plt.ylabel('accuracy')\r\n",
        "plt.xlabel('epoch')\r\n",
        "plt.legend(['training', 'validation'], loc='center right')\r\n",
        "plt.show()"
      ],
      "execution_count": 25,
      "outputs": [
        {
          "output_type": "display_data",
          "data": {
            "image/png": "[encoded data removed]",
            "text/plain": [
              "<Figure size 432x288 with 1 Axes>"
            ]
          },
          "metadata": {
            "tags": [],
            "needs_background": "light"
          }
        }
      ]
    },
    {
      "cell_type": "code",
      "metadata": {
        "id": "yJ9JqM4ynTXH",
        "colab": {
          "base_uri": "https://localhost:8080/",
          "height": 295
        },
        "outputId": "19911966-27ae-42b8-80f9-e680f820eaee"
      },
      "source": [
        "# Behviour of loss over the epochs\r\n",
        "plt.plot(h_retr.history['loss'],'g')\r\n",
        "plt.plot(h_retr.history['val_loss'],'b')\r\n",
        "plt.title('model loss')\r\n",
        "plt.ylabel('loss')\r\n",
        "plt.xlabel('epoch')\r\n",
        "plt.legend(['training', 'validation'], loc='upper right')\r\n",
        "plt.show()"
      ],
      "execution_count": 26,
      "outputs": [
        {
          "output_type": "display_data",
          "data": {
            "image/png": "[encoded data removed]",
            "text/plain": [
              "<Figure size 432x288 with 1 Axes>"
            ]
          },
          "metadata": {
            "tags": [],
            "needs_background": "light"
          }
        }
      ]
    },
    {
      "cell_type": "code",
      "metadata": {
        "id": "uAn2e4NhnXXz",
        "colab": {
          "base_uri": "https://localhost:8080/",
          "height": 295
        },
        "outputId": "be714c27-8875-4580-fb34-d07a63ae292d"
      },
      "source": [
        "# Let's plot the accuracy of training and retrain over the epochs\r\n",
        "\r\n",
        "# plot accuracy over the epochs\r\n",
        "from matplotlib import pyplot as plt\r\n",
        "plt.plot(h_org.history['accuracy'],'r')\r\n",
        "plt.plot(h_retr.history['accuracy'],'b')\r\n",
        "plt.title('model accuracy')\r\n",
        "plt.ylabel('accuracy')\r\n",
        "plt.xlabel('epoch')\r\n",
        "plt.legend(['training_acc', 'retraining_acc'], loc='center right')\r\n",
        "plt.show()"
      ],
      "execution_count": 27,
      "outputs": [
        {
          "output_type": "display_data",
          "data": {
            "image/png": "[encoded data removed]",
            "text/plain": [
              "<Figure size 432x288 with 1 Axes>"
            ]
          },
          "metadata": {
            "tags": [],
            "needs_background": "light"
          }
        }
      ]
    }
  ]
}