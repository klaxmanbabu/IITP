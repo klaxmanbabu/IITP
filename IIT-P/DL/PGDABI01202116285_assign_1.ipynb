{
  "nbformat": 4,
  "nbformat_minor": 0,
  "metadata": {
    "colab": {
      "name": "PGDABI01202116285_assign_1.ipynb",
      "provenance": []
    },
    "kernelspec": {
      "name": "python3",
      "display_name": "Python 3"
    }
  },
  "cells": [
    {
      "cell_type": "code",
      "metadata": {
        "id": "qKPO40xRf1Ex"
      },
      "source": [
        "# Import necessary Packages\r\n",
        " \r\n",
        "from keras.models import Sequential\r\n",
        "from keras.layers import Dense, Dropout, Flatten\r\n",
        "from keras.layers import Conv2D, MaxPooling2D\r\n",
        "from keras.datasets import mnist\r\n",
        "from keras.datasets import fashion_mnist\r\n",
        "import matplotlib.pyplot as plt\r\n",
        "import keras.utils\r\n",
        "import numpy as np"
      ],
      "execution_count": 1,
      "outputs": []
    },
    {
      "cell_type": "code",
      "metadata": {
        "colab": {
          "base_uri": "https://localhost:8080/"
        },
        "id": "TDsPXjPhgY07",
        "outputId": "dfa98543-3470-468a-daac-b95562f620bb"
      },
      "source": [
        "# Get the dataset\r\n",
        "\r\n",
        "(X_train, Y_train), (X_test, Y_test) = fashion_mnist.load_data() \t#Keras function\r\n",
        "\r\n",
        "print (\"fashion_mnist data downloaded...\")"
      ],
      "execution_count": 2,
      "outputs": [
        {
          "output_type": "stream",
          "text": [
            "Downloading data from https://storage.googleapis.com/tensorflow/tf-keras-datasets/train-labels-idx1-ubyte.gz\n",
            "32768/29515 [=================================] - 0s 0us/step\n",
            "Downloading data from https://storage.googleapis.com/tensorflow/tf-keras-datasets/train-images-idx3-ubyte.gz\n",
            "26427392/26421880 [==============================] - 0s 0us/step\n",
            "Downloading data from https://storage.googleapis.com/tensorflow/tf-keras-datasets/t10k-labels-idx1-ubyte.gz\n",
            "8192/5148 [===============================================] - 0s 0us/step\n",
            "Downloading data from https://storage.googleapis.com/tensorflow/tf-keras-datasets/t10k-images-idx3-ubyte.gz\n",
            "4423680/4422102 [==============================] - 0s 0us/step\n",
            "fashion_mnist data downloaded...\n"
          ],
          "name": "stdout"
        }
      ]
    },
    {
      "cell_type": "code",
      "metadata": {
        "colab": {
          "base_uri": "https://localhost:8080/"
        },
        "id": "5ZPIp22Dlg23",
        "outputId": "050eac69-07f6-4c59-ddd0-98d3b53a551d"
      },
      "source": [
        "# Find the unique numbers from the train labels\r\n",
        "classes = np.unique(Y_train)\r\n",
        "classes_num = len(classes)\r\n",
        "print('Unique output classes : ', classes)\r\n",
        "print('Total number of outputs : ', classes_num)"
      ],
      "execution_count": 4,
      "outputs": [
        {
          "output_type": "stream",
          "text": [
            "Unique output classes :  [0 1 2 3 4 5 6 7 8 9]\n",
            "Total number of outputs :  10\n"
          ],
          "name": "stdout"
        }
      ]
    },
    {
      "cell_type": "code",
      "metadata": {
        "id": "tSYhS4UUlnyR"
      },
      "source": [
        "#Filter classes for sandal and sneaker\r\n",
        "L=[]#List for two classes sandal and sneaker\r\n",
        "for i in range(len(Y_train)):\r\n",
        "    if (Y_train[i]== 0 or  Y_train[i]== 9): \r\n",
        "        L.append(Y_train[i])\r\n",
        "        #print(Y_train[i])"
      ],
      "execution_count": 5,
      "outputs": []
    },
    {
      "cell_type": "code",
      "metadata": {
        "id": "hFJ9SysklrNE"
      },
      "source": [
        "X_train=X_train[L]\r\n",
        "Y_train=Y_train[L]\r\n",
        "X_test=X_test[L]\r\n",
        "Y_test=Y_test[L]"
      ],
      "execution_count": 6,
      "outputs": []
    },
    {
      "cell_type": "code",
      "metadata": {
        "colab": {
          "base_uri": "https://localhost:8080/"
        },
        "id": "XbUlsCyknw0z",
        "outputId": "f990311f-7873-4c26-94f6-f80fa3059008"
      },
      "source": [
        "# Find the unique numbers from the train labels after applying filters\r\n",
        "classes = np.unique(L )\r\n",
        "classes_num = len(classes)\r\n",
        "print('Unique output classes : ', classes)\r\n",
        "print('Total number of outputs : ', classes_num)"
      ],
      "execution_count": 7,
      "outputs": [
        {
          "output_type": "stream",
          "text": [
            "Unique output classes :  [0 9]\n",
            "Total number of outputs :  2\n"
          ],
          "name": "stdout"
        }
      ]
    },
    {
      "cell_type": "code",
      "metadata": {
        "colab": {
          "base_uri": "https://localhost:8080/",
          "height": 268
        },
        "id": "2MUJF7B3gb2_",
        "outputId": "cb642a35-1117-474e-a8aa-b99228bfe3d0"
      },
      "source": [
        "# This code cell is for visualization of data only...may be skipped\r\n",
        "\r\n",
        "# plot images...subplot function is being used...nice documentation is available on the official webpage of matplotlib\r\n",
        "# arguments to subplot functions are number of rows, number of columns and \r\n",
        "# number of subplots in the plot...comma is mandatory if values are less than 10\r\n",
        "\r\n",
        "plt.subplot(221)\t\r\n",
        "plt.imshow(X_train[0], cmap=plt.get_cmap('gray')) # ploting first image of training data set\r\n",
        "#plt.subplot(222)\r\n",
        "#plt.imshow(X_train[9], cmap=plt.get_cmap('gray'))\t# ploting 10th image in training data set\r\n",
        "plt.subplot(223)\r\n",
        "plt.imshow(X_test[11], cmap=plt.get_cmap('gray'))\t# ploting 12rth image of test date set\r\n",
        "plt.subplot(224)\r\n",
        "plt.imshow(X_test[12], cmap=plt.get_cmap('gray'))\t# ploting 13th image of test data set\r\n",
        "\r\n",
        "# show the plot\r\n",
        "plt.show()"
      ],
      "execution_count": 8,
      "outputs": [
        {
          "output_type": "display_data",
          "data": {
            "image/png": "[encoded data removed]",
            "text/plain": [
              "<Figure size 432x288 with 3 Axes>"
            ]
          },
          "metadata": {
            "tags": [],
            "needs_background": "light"
          }
        }
      ]
    },
    {
      "cell_type": "code",
      "metadata": {
        "colab": {
          "base_uri": "https://localhost:8080/"
        },
        "id": "lTvgVjR9ggFf",
        "outputId": "ce281187-f0a3-4bbd-e6b1-a0d405037ea3"
      },
      "source": [
        "# Print shape of dataset..it will print three tuples, namely the no. of images in dataset, height and width(60000, 28, 28)\r\n",
        "\r\n",
        "print (X_train.shape)"
      ],
      "execution_count": 9,
      "outputs": [
        {
          "output_type": "stream",
          "text": [
            "(12000, 28, 28)\n"
          ],
          "name": "stdout"
        }
      ]
    },
    {
      "cell_type": "code",
      "metadata": {
        "colab": {
          "base_uri": "https://localhost:8080/"
        },
        "id": "-GMFb8y0gjoh",
        "outputId": "d1fa98bc-a913-4159-9994-ab270c650254"
      },
      "source": [
        "print (Y_train.shape)"
      ],
      "execution_count": 10,
      "outputs": [
        {
          "output_type": "stream",
          "text": [
            "(12000,)\n"
          ],
          "name": "stdout"
        }
      ]
    },
    {
      "cell_type": "code",
      "metadata": {
        "colab": {
          "base_uri": "https://localhost:8080/"
        },
        "id": "02MHgha6gmcB",
        "outputId": "baf74532-5add-4dc7-a017-bb7ee8b94d68"
      },
      "source": [
        "# Do basic preprocessing of the training data\r\n",
        "\r\n",
        "# reshaping the data \r\n",
        "X_train = X_train.reshape(12000,28,28,1)\r\n",
        "X_test = X_test.reshape(12000,28,28,1)\r\n",
        "\r\n",
        "for_final_test = X_test # we will use this for running predictions\r\n",
        "\r\n",
        "# Change the data type from int to float\r\n",
        "X_train = X_train.astype('float32')\r\n",
        "X_test = X_test.astype('float32')\r\n",
        "\r\n",
        "# Normalize the images\r\n",
        "X_train /= 255\r\n",
        "X_test /= 255\r\n",
        "\r\n",
        "print('X_train shape:', X_train.shape)\r\n",
        "print('X_test shape:', X_test.shape)\r\n",
        "print(X_train.shape[0], 'training samples')\r\n",
        "print(X_test.shape[0], 'test samples')"
      ],
      "execution_count": 11,
      "outputs": [
        {
          "output_type": "stream",
          "text": [
            "X_train shape: (12000, 28, 28, 1)\n",
            "X_test shape: (12000, 28, 28, 1)\n",
            "12000 training samples\n",
            "12000 test samples\n"
          ],
          "name": "stdout"
        }
      ]
    },
    {
      "cell_type": "code",
      "metadata": {
        "colab": {
          "base_uri": "https://localhost:8080/"
        },
        "id": "lcXjcM02gpKf",
        "outputId": "2ae3184a-f7e0-4432-cb8d-4439234eb2ad"
      },
      "source": [
        "# Convert the class labels to one hot encoded matrix\r\n",
        "\r\n",
        "num_classes = 10 # number of classess for classification \r\n",
        "\r\n",
        "Y_train = keras.utils.to_categorical(Y_train, num_classes)\r\n",
        "Y_test = keras.utils.to_categorical(Y_test, num_classes)\r\n",
        "\r\n",
        "print (Y_train.shape)"
      ],
      "execution_count": 12,
      "outputs": [
        {
          "output_type": "stream",
          "text": [
            "(12000, 10)\n"
          ],
          "name": "stdout"
        }
      ]
    },
    {
      "cell_type": "code",
      "metadata": {
        "colab": {
          "base_uri": "https://localhost:8080/"
        },
        "id": "R4_kXEW4gsOy",
        "outputId": "570bc764-f41e-4172-ffd8-27d08dd4eae4"
      },
      "source": [
        "# Define model architecture\r\n",
        "\r\n",
        "rows, cols = 28,28\r\n",
        "input_shape = (rows, cols, 1)\r\n",
        "model = Sequential()\r\n",
        "\r\n",
        "#arch 1\r\n",
        "model.add(Conv2D(32, kernel_size=(3, 3), activation='relu', input_shape=input_shape))\r\n",
        "model.add(Conv2D(64, (3, 3), activation='relu'))\r\n",
        "model.add(MaxPooling2D(pool_size=(2, 2)))\r\n",
        "model.add(Flatten()) #Flattens the input, Why ? because we need to connect it to Dense layer\r\n",
        "model.add(Dense(num_classes, activation='softmax'))\r\n",
        "\r\n",
        "# another architecture...you may experiment with the following architecture\r\n",
        "#arch 2\r\n",
        "#model.add(Conv2D(32, kernel_size=(3, 3), activation='relu', input_shape=input_shape))\r\n",
        "#model.add(Conv2D(64, (3, 3), activation='relu'))\r\n",
        "#model.add(MaxPooling2D(pool_size=(2, 2)))\r\n",
        "#model.add(Dropout(0.25))\r\n",
        "#model.add(Flatten()) # Flattens the input\r\n",
        "#model.add(Dense(128, activation='relu'))\r\n",
        "#model.add(Dropout(0.5))\r\n",
        "#model.add(Dense(num_classes, activation='softmax'))\r\n",
        "\r\n",
        "print (\"keep going...\")"
      ],
      "execution_count": 13,
      "outputs": [
        {
          "output_type": "stream",
          "text": [
            "keep going...\n"
          ],
          "name": "stdout"
        }
      ]
    },
    {
      "cell_type": "code",
      "metadata": {
        "colab": {
          "base_uri": "https://localhost:8080/"
        },
        "id": "op4eAUC4gv4n",
        "outputId": "4babe457-0266-44c6-c604-f1f071afc714"
      },
      "source": [
        "# Once a model is \"built\", summary() method can be used to display its contents:\r\n",
        "model.summary()"
      ],
      "execution_count": 14,
      "outputs": [
        {
          "output_type": "stream",
          "text": [
            "Model: \"sequential\"\n",
            "_________________________________________________________________\n",
            "Layer (type)                 Output Shape              Param #   \n",
            "=================================================================\n",
            "conv2d (Conv2D)              (None, 26, 26, 32)        320       \n",
            "_________________________________________________________________\n",
            "conv2d_1 (Conv2D)            (None, 24, 24, 64)        18496     \n",
            "_________________________________________________________________\n",
            "max_pooling2d (MaxPooling2D) (None, 12, 12, 64)        0         \n",
            "_________________________________________________________________\n",
            "flatten (Flatten)            (None, 9216)              0         \n",
            "_________________________________________________________________\n",
            "dense (Dense)                (None, 10)                92170     \n",
            "=================================================================\n",
            "Total params: 110,986\n",
            "Trainable params: 110,986\n",
            "Non-trainable params: 0\n",
            "_________________________________________________________________\n"
          ],
          "name": "stdout"
        }
      ]
    },
    {
      "cell_type": "code",
      "metadata": {
        "colab": {
          "base_uri": "https://localhost:8080/"
        },
        "id": "ltLjGb3jgy_k",
        "outputId": "02282ca9-3702-4988-adc5-4bda1c3b15dd"
      },
      "source": [
        "# compiling model\r\n",
        "\r\n",
        "model.compile(loss='categorical_crossentropy', optimizer='Adadelta', metrics=['accuracy'])\r\n",
        "\r\n",
        "print (\"compile successful...\")"
      ],
      "execution_count": 15,
      "outputs": [
        {
          "output_type": "stream",
          "text": [
            "compile successful...\n"
          ],
          "name": "stdout"
        }
      ]
    },
    {
      "cell_type": "code",
      "metadata": {
        "colab": {
          "base_uri": "https://localhost:8080/"
        },
        "id": "RjjylYGTpaLu",
        "outputId": "b4caced4-adb2-4477-d585-06cb785b8376"
      },
      "source": [
        "# print model summary\r\n",
        "print(model.summary())"
      ],
      "execution_count": 16,
      "outputs": [
        {
          "output_type": "stream",
          "text": [
            "Model: \"sequential\"\n",
            "_________________________________________________________________\n",
            "Layer (type)                 Output Shape              Param #   \n",
            "=================================================================\n",
            "conv2d (Conv2D)              (None, 26, 26, 32)        320       \n",
            "_________________________________________________________________\n",
            "conv2d_1 (Conv2D)            (None, 24, 24, 64)        18496     \n",
            "_________________________________________________________________\n",
            "max_pooling2d (MaxPooling2D) (None, 12, 12, 64)        0         \n",
            "_________________________________________________________________\n",
            "flatten (Flatten)            (None, 9216)              0         \n",
            "_________________________________________________________________\n",
            "dense (Dense)                (None, 10)                92170     \n",
            "=================================================================\n",
            "Total params: 110,986\n",
            "Trainable params: 110,986\n",
            "Non-trainable params: 0\n",
            "_________________________________________________________________\n",
            "None\n"
          ],
          "name": "stdout"
        }
      ]
    },
    {
      "cell_type": "code",
      "metadata": {
        "colab": {
          "base_uri": "https://localhost:8080/"
        },
        "id": "TkO6EYgHg162",
        "outputId": "bd5cb61a-7f79-4018-8d14-f9eb92c717a6"
      },
      "source": [
        "# Now we train the model\r\n",
        "\r\n",
        "batch_size = 128\r\n",
        "epochs = 8\r\n",
        "\r\n",
        "# start the training\r\n",
        "\r\n",
        "history=model.fit(X_train, Y_train, batch_size=batch_size, epochs=epochs, verbose=1, validation_split=0.2)\r\n",
        "\r\n",
        "print (\"training done...\")"
      ],
      "execution_count": 17,
      "outputs": [
        {
          "output_type": "stream",
          "text": [
            "Epoch 1/8\n",
            "75/75 [==============================] - 18s 236ms/step - loss: 2.1385 - accuracy: 0.4945 - val_loss: 2.0880 - val_accuracy: 0.4929\n",
            "Epoch 2/8\n",
            "75/75 [==============================] - 17s 231ms/step - loss: 2.0692 - accuracy: 0.5008 - val_loss: 2.0145 - val_accuracy: 0.4929\n",
            "Epoch 3/8\n",
            "75/75 [==============================] - 17s 229ms/step - loss: 1.9942 - accuracy: 0.5005 - val_loss: 1.9344 - val_accuracy: 0.4929\n",
            "Epoch 4/8\n",
            "75/75 [==============================] - 17s 230ms/step - loss: 1.9116 - accuracy: 0.5135 - val_loss: 1.8462 - val_accuracy: 0.4929\n",
            "Epoch 5/8\n",
            "75/75 [==============================] - 17s 231ms/step - loss: 1.8216 - accuracy: 0.6886 - val_loss: 1.7459 - val_accuracy: 1.0000\n",
            "Epoch 6/8\n",
            "75/75 [==============================] - 17s 227ms/step - loss: 1.7184 - accuracy: 1.0000 - val_loss: 1.6323 - val_accuracy: 1.0000\n",
            "Epoch 7/8\n",
            "75/75 [==============================] - 17s 229ms/step - loss: 1.6013 - accuracy: 1.0000 - val_loss: 1.5040 - val_accuracy: 1.0000\n",
            "Epoch 8/8\n",
            "75/75 [==============================] - 17s 227ms/step - loss: 1.4695 - accuracy: 1.0000 - val_loss: 1.3612 - val_accuracy: 1.0000\n",
            "training done...\n"
          ],
          "name": "stdout"
        }
      ]
    },
    {
      "cell_type": "code",
      "metadata": {
        "colab": {
          "base_uri": "https://localhost:8080/"
        },
        "id": "CXH_eFPeg4vB",
        "outputId": "0e249942-85e4-4fc9-c969-15990c6ed1f9"
      },
      "source": [
        "# Evaluate the model\r\n",
        "\r\n",
        "score = model.evaluate(X_test, Y_test, verbose=1)\r\n",
        "print('loss:', score[0])\r\n",
        "print('accuracy:', score[1])"
      ],
      "execution_count": 18,
      "outputs": [
        {
          "output_type": "stream",
          "text": [
            "375/375 [==============================] - 6s 17ms/step - loss: 2.0832 - accuracy: 0.5000\n",
            "loss: 2.0831871032714844\n",
            "accuracy: 0.5\n"
          ],
          "name": "stdout"
        }
      ]
    },
    {
      "cell_type": "code",
      "metadata": {
        "colab": {
          "base_uri": "https://localhost:8080/"
        },
        "id": "vdTp-f47hv9F",
        "outputId": "9686ed91-cd87-4097-a711-4e2f766cb225"
      },
      "source": [
        "#printing metrices\r\n",
        "print (model.metrics_names)\r\n",
        "\r\n",
        "# list all data in history\r\n",
        "print(history.history.keys())"
      ],
      "execution_count": 19,
      "outputs": [
        {
          "output_type": "stream",
          "text": [
            "['loss', 'accuracy']\n",
            "dict_keys(['loss', 'accuracy', 'val_loss', 'val_accuracy'])\n"
          ],
          "name": "stdout"
        }
      ]
    },
    {
      "cell_type": "code",
      "metadata": {
        "colab": {
          "base_uri": "https://localhost:8080/"
        },
        "id": "tHzbe-2Jh2BS",
        "outputId": "a1f5211a-48f3-4f25-9c3d-879a19247776"
      },
      "source": [
        "# about training \r\n",
        "history.history.keys()"
      ],
      "execution_count": 20,
      "outputs": [
        {
          "output_type": "execute_result",
          "data": {
            "text/plain": [
              "dict_keys(['loss', 'accuracy', 'val_loss', 'val_accuracy'])"
            ]
          },
          "metadata": {
            "tags": []
          },
          "execution_count": 20
        }
      ]
    },
    {
      "cell_type": "code",
      "metadata": {
        "colab": {
          "base_uri": "https://localhost:8080/",
          "height": 295
        },
        "id": "2Rt_-20Rh7dX",
        "outputId": "b247d9ab-88d2-4ee6-f9b0-cd6c9d140b99"
      },
      "source": [
        "# to visualize the performance with plots...plot loss and accuracy in training and validation \r\n",
        "\r\n",
        "# Plot for accuracy\r\n",
        "plt.plot(history.history['accuracy'])\r\n",
        "plt.plot(history.history['val_accuracy'])\r\n",
        "plt.title('model accuracy')\r\n",
        "plt.ylabel('accuracy')\r\n",
        "plt.xlabel('epoch')\r\n",
        "plt.legend(['training', 'validation'], loc='center right')\r\n",
        "plt.show()"
      ],
      "execution_count": 21,
      "outputs": [
        {
          "output_type": "display_data",
          "data": {
            "image/png": "[encoded data removed]",
            "text/plain": [
              "<Figure size 432x288 with 1 Axes>"
            ]
          },
          "metadata": {
            "tags": [],
            "needs_background": "light"
          }
        }
      ]
    },
    {
      "cell_type": "code",
      "metadata": {
        "colab": {
          "base_uri": "https://localhost:8080/",
          "height": 295
        },
        "id": "g5_AmAwlh_Qf",
        "outputId": "3c111a4c-ff8d-4f1d-cd5d-0f540253d4f9"
      },
      "source": [
        "# Accuracy with the epochs\r\n",
        "\r\n",
        "plt.plot(history.history['accuracy'],'r')\r\n",
        "plt.title('model accuracy')\r\n",
        "plt.ylabel('accuracy')\r\n",
        "plt.xlabel('epoch')\r\n",
        "plt.legend(['training'], loc='center right')\r\n",
        "plt.show()"
      ],
      "execution_count": 22,
      "outputs": [
        {
          "output_type": "display_data",
          "data": {
            "image/png": "[encoded data removed]",
            "text/plain": [
              "<Figure size 432x288 with 1 Axes>"
            ]
          },
          "metadata": {
            "tags": [],
            "needs_background": "light"
          }
        }
      ]
    },
    {
      "cell_type": "code",
      "metadata": {
        "colab": {
          "base_uri": "https://localhost:8080/",
          "height": 295
        },
        "id": "F1Z8dLv3iCxI",
        "outputId": "ddd8946e-06b9-4c84-96eb-0024c610821e"
      },
      "source": [
        "# summarize history for loss\r\n",
        "\r\n",
        "plt.plot(history.history['loss'])\r\n",
        "plt.plot(history.history['val_loss'])\r\n",
        "plt.title('model loss')\r\n",
        "plt.ylabel('loss')\r\n",
        "plt.xlabel('epoch')\r\n",
        "plt.legend(['training', 'validation'], loc='upper right')\r\n",
        "plt.show()"
      ],
      "execution_count": 23,
      "outputs": [
        {
          "output_type": "display_data",
          "data": {
            "image/png": "[encoded data removed]",
            "text/plain": [
              "<Figure size 432x288 with 1 Axes>"
            ]
          },
          "metadata": {
            "tags": [],
            "needs_background": "light"
          }
        }
      ]
    },
    {
      "cell_type": "code",
      "metadata": {
        "colab": {
          "base_uri": "https://localhost:8080/",
          "height": 295
        },
        "id": "pLN78ds5iGF6",
        "outputId": "3231a2aa-17e2-4fc9-95bc-417eb223f7ad"
      },
      "source": [
        "# Loss with epochs\r\n",
        "\r\n",
        "plt.plot(history.history['loss'],'g')\r\n",
        "plt.title('model loss')\r\n",
        "plt.ylabel('loss')\r\n",
        "plt.xlabel('epoch')\r\n",
        "plt.legend(['training'], loc='upper right')\r\n",
        "plt.show()"
      ],
      "execution_count": 24,
      "outputs": [
        {
          "output_type": "display_data",
          "data": {
            "image/png": "[encoded data removed]",
            "text/plain": [
              "<Figure size 432x288 with 1 Axes>"
            ]
          },
          "metadata": {
            "tags": [],
            "needs_background": "light"
          }
        }
      ]
    },
    {
      "cell_type": "code",
      "metadata": {
        "id": "oCgo-hDEiLQG"
      },
      "source": [
        ""
      ],
      "execution_count": null,
      "outputs": []
    }
  ]
}