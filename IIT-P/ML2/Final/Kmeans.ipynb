{
  "nbformat": 4,
  "nbformat_minor": 0,
  "metadata": {
    "colab": {
      "name": "Kmeans.ipynb",
      "provenance": []
    },
    "kernelspec": {
      "name": "python3",
      "display_name": "Python 3"
    }
  },
  "cells": [
    {
      "cell_type": "code",
      "metadata": {
        "id": "P4A6VbsBuUAH"
      },
      "source": [
        "import numpy as np\r\n",
        "import matplotlib.pyplot as plot\r\n",
        "from matplotlib.pyplot import style\r\n",
        "style.use(\"seaborn-darkgrid\")\r\n"
      ],
      "execution_count": null,
      "outputs": []
    },
    {
      "cell_type": "code",
      "metadata": {
        "id": "Fskoxh3ludlu"
      },
      "source": [
        "from sklearn.cluster import KMeans\r\n",
        "from sklearn.metrics import silhouette_score\r\n",
        "from sklearn.metrics import adjusted_rand_score, adjusted_mutual_info_score\r\n"
      ],
      "execution_count": null,
      "outputs": []
    },
    {
      "cell_type": "code",
      "metadata": {
        "colab": {
          "base_uri": "https://localhost:8080/"
        },
        "id": "WvYO5gjdur2X",
        "outputId": "dddf1c5d-529d-477b-f176-846dabac0a4a"
      },
      "source": [
        "all_data = np.array([[1, 2], [5,8], [1.5, 1.8] ,[8,8], [9,11], [10,1], [7,5], [9,2], [3,7]])\r\n",
        "D = all_data\r\n",
        "print (D)"
      ],
      "execution_count": null,
      "outputs": [
        {
          "output_type": "stream",
          "text": [
            "[[ 1.   2. ]\n",
            " [ 5.   8. ]\n",
            " [ 1.5  1.8]\n",
            " [ 8.   8. ]\n",
            " [ 9.  11. ]\n",
            " [10.   1. ]\n",
            " [ 7.   5. ]\n",
            " [ 9.   2. ]\n",
            " [ 3.   7. ]]\n"
          ],
          "name": "stdout"
        }
      ]
    },
    {
      "cell_type": "code",
      "metadata": {
        "colab": {
          "base_uri": "https://localhost:8080/"
        },
        "id": "fB4g75fVuxW9",
        "outputId": "99941345-3401-47d1-f3b1-254ebca3f7d6"
      },
      "source": [
        "kmeans = KMeans(n_clusters=3)\r\n",
        "kmeans.fit(D)"
      ],
      "execution_count": null,
      "outputs": [
        {
          "output_type": "execute_result",
          "data": {
            "text/plain": [
              "KMeans(algorithm='auto', copy_x=True, init='k-means++', max_iter=300,\n",
              "       n_clusters=3, n_init=10, n_jobs=None, precompute_distances='auto',\n",
              "       random_state=None, tol=0.0001, verbose=0)"
            ]
          },
          "metadata": {
            "tags": []
          },
          "execution_count": 4
        }
      ]
    },
    {
      "cell_type": "code",
      "metadata": {
        "colab": {
          "base_uri": "https://localhost:8080/"
        },
        "id": "oQyyE157u0YL",
        "outputId": "55333830-30f1-400d-8695-8fc49514491e"
      },
      "source": [
        "centroids = kmeans.cluster_centers_\r\n",
        "label = kmeans.labels_\r\n",
        "print (\"Cluster Centers are :\", centroids)\r\n",
        "print (\"Labels :\", label)\r\n"
      ],
      "execution_count": null,
      "outputs": [
        {
          "output_type": "stream",
          "text": [
            "Cluster Centers are : [[9.5  1.5 ]\n",
            " [6.4  7.8 ]\n",
            " [1.25 1.9 ]]\n",
            "Labels : [2 1 2 1 1 0 1 0 1]\n"
          ],
          "name": "stdout"
        }
      ]
    },
    {
      "cell_type": "code",
      "metadata": {
        "colab": {
          "base_uri": "https://localhost:8080/",
          "height": 262
        },
        "id": "9-oEBMmLu67y",
        "outputId": "38a29414-4071-4fc1-9681-3a2106db5084"
      },
      "source": [
        "colours = ['m.','g.','r.', 'k.']\r\n",
        "for i in range(len(D)):\r\n",
        "    #print \"Coordinates \", D[i], \"labels\", label[i]\r\n",
        "    plot.plot(D[i][0], D[i][1], colours[label[i]], markersize = 15 )\r\n",
        "for i in range(len(centroids)):\r\n",
        "    plot.plot(centroids[i][0], centroids[i][1], colours[i], markersize = 20, marker='*' )\r\n",
        "plot.show()"
      ],
      "execution_count": null,
      "outputs": [
        {
          "output_type": "display_data",
          "data": {
            "image/png": "[encoded data removed]",
            "text/plain": [
              "<Figure size 432x288 with 1 Axes>"
            ]
          },
          "metadata": {
            "tags": [],
            "needs_background": "light"
          }
        }
      ]
    },
    {
      "cell_type": "code",
      "metadata": {
        "colab": {
          "base_uri": "https://localhost:8080/"
        },
        "id": "y-IhZaJvu-Sl",
        "outputId": "167d56e0-984f-4171-cfad-02f689e1ce7e"
      },
      "source": [
        "Sil_score=silhouette_score(D,label)\r\n",
        "print (\"Silhouette Score: \", Sil_score)"
      ],
      "execution_count": null,
      "outputs": [
        {
          "output_type": "stream",
          "text": [
            "Silhouette Score:  0.5541174132546653\n"
          ],
          "name": "stdout"
        }
      ]
    },
    {
      "cell_type": "code",
      "metadata": {
        "colab": {
          "resources": {
            "http://localhost:8080/nbextensions/google.colab/files.js": {
              "data": "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",
              "ok": true,
              "headers": [
                [
                  "content-type",
                  "application/javascript"
                ]
              ],
              "status": 200,
              "status_text": "OK"
            }
          },
          "base_uri": "https://localhost:8080/",
          "height": 73
        },
        "id": "NC6OCL7MvBLJ",
        "outputId": "8d797e25-ae1c-412f-90a5-6021fc292f87"
      },
      "source": [
        "from google.colab import files\r\n",
        "uploaded = files.upload()"
      ],
      "execution_count": null,
      "outputs": [
        {
          "output_type": "display_data",
          "data": {
            "text/html": [
              "\n",
              "     <input type=\"file\" id=\"files-aa6075d7-fafb-47bc-8b03-04a91052194c\" name=\"files[]\" multiple disabled\n",
              "        style=\"border:none\" />\n",
              "     <output id=\"result-aa6075d7-fafb-47bc-8b03-04a91052194c\">\n",
              "      Upload widget is only available when the cell has been executed in the\n",
              "      current browser session. Please rerun this cell to enable.\n",
              "      </output>\n",
              "      <script src=\"/nbextensions/google.colab/files.js\"></script> "
            ],
            "text/plain": [
              "<IPython.core.display.HTML object>"
            ]
          },
          "metadata": {
            "tags": []
          }
        },
        {
          "output_type": "stream",
          "text": [
            "Saving iris_org.txt to iris_org.txt\n"
          ],
          "name": "stdout"
        }
      ]
    },
    {
      "cell_type": "code",
      "metadata": {
        "id": "E1eqcBOZvrMb"
      },
      "source": [
        "read_file=open(\"iris_org.txt\",'r')\r\n",
        "read_content= read_file.read()"
      ],
      "execution_count": null,
      "outputs": []
    },
    {
      "cell_type": "code",
      "metadata": {
        "colab": {
          "base_uri": "https://localhost:8080/"
        },
        "id": "dZIrxDc7vy1Z",
        "outputId": "29240be3-b8dc-4665-940a-42303f6a3477"
      },
      "source": [
        "all_data= read_content.splitlines()\r\n",
        "No_data_points=len(all_data)\r\n",
        "print (\"Number of the data points :- \", No_data_points)\r\n",
        "features = all_data[0].split(\"\\t\")\r\n",
        "No_of_features = len(features)-1\r\n",
        "print (\"Number the features/samples :- \", No_of_features)"
      ],
      "execution_count": null,
      "outputs": [
        {
          "output_type": "stream",
          "text": [
            "Number of the data points :-  150\n",
            "Number the features/samples :-  4\n"
          ],
          "name": "stdout"
        }
      ]
    },
    {
      "cell_type": "code",
      "metadata": {
        "colab": {
          "base_uri": "https://localhost:8080/"
        },
        "id": "nwgEEizGv3L_",
        "outputId": "0ea000a0-4318-4250-e573-7daf7f1a7a17"
      },
      "source": [
        "\r\n",
        "Df=np.zeros((No_data_points,No_of_features))\r\n",
        "true_label = []\r\n",
        "counter = 0\r\n",
        "for lines in all_data:\r\n",
        "    values=lines.split('\\t')\r\n",
        "    for i in range(0,No_of_features):\r\n",
        "        Df[counter][i]= values[i]\r\n",
        "    true_label.append(int(values[No_of_features]))     #\r\n",
        "    counter+=1\r\n",
        "print (Df)"
      ],
      "execution_count": null,
      "outputs": [
        {
          "output_type": "stream",
          "text": [
            "[[5.1 3.5 1.4 0.2]\n",
            " [7.  3.2 4.7 1.4]\n",
            " [6.3 3.3 6.  2.5]\n",
            " [4.9 3.  1.4 0.2]\n",
            " [6.4 3.2 4.5 1.5]\n",
            " [5.8 2.7 5.1 1.9]\n",
            " [4.7 3.2 1.3 0.2]\n",
            " [6.9 3.1 4.9 1.5]\n",
            " [7.1 3.  5.9 2.1]\n",
            " [4.6 3.1 1.5 0.2]\n",
            " [5.5 2.3 4.  1.3]\n",
            " [6.3 2.9 5.6 1.8]\n",
            " [5.  3.6 1.4 0.2]\n",
            " [6.5 2.8 4.6 1.5]\n",
            " [6.5 3.  5.8 2.2]\n",
            " [5.4 3.9 1.7 0.4]\n",
            " [5.7 2.8 4.5 1.3]\n",
            " [7.6 3.  6.6 2.1]\n",
            " [4.6 3.4 1.4 0.3]\n",
            " [6.3 3.3 4.7 1.6]\n",
            " [4.9 2.5 4.5 1.7]\n",
            " [5.  3.4 1.5 0.2]\n",
            " [4.9 2.4 3.3 1. ]\n",
            " [7.3 2.9 6.3 1.8]\n",
            " [4.4 2.9 1.4 0.2]\n",
            " [6.6 2.9 4.6 1.3]\n",
            " [6.7 2.5 5.8 1.8]\n",
            " [4.9 3.1 1.5 0.1]\n",
            " [5.2 2.7 3.9 1.4]\n",
            " [7.2 3.6 6.1 2.5]\n",
            " [5.4 3.7 1.5 0.2]\n",
            " [5.  2.  3.5 1. ]\n",
            " [6.5 3.2 5.1 2. ]\n",
            " [4.8 3.4 1.6 0.2]\n",
            " [5.9 3.  4.2 1.5]\n",
            " [6.4 2.7 5.3 1.9]\n",
            " [4.8 3.  1.4 0.1]\n",
            " [6.  2.2 4.  1. ]\n",
            " [6.8 3.  5.5 2.1]\n",
            " [4.3 3.  1.1 0.1]\n",
            " [6.1 2.9 4.7 1.4]\n",
            " [5.7 2.5 5.  2. ]\n",
            " [5.8 4.  1.2 0.2]\n",
            " [5.6 2.9 3.6 1.3]\n",
            " [5.8 2.8 5.1 2.4]\n",
            " [5.7 4.4 1.5 0.4]\n",
            " [6.7 3.1 4.4 1.4]\n",
            " [6.4 3.2 5.3 2.3]\n",
            " [5.4 3.9 1.3 0.4]\n",
            " [5.6 3.  4.5 1.5]\n",
            " [6.5 3.  5.5 1.8]\n",
            " [5.1 3.5 1.4 0.3]\n",
            " [5.8 2.7 4.1 1. ]\n",
            " [7.7 3.8 6.7 2.2]\n",
            " [5.7 3.8 1.7 0.3]\n",
            " [6.2 2.2 4.5 1.5]\n",
            " [7.7 2.6 6.9 2.3]\n",
            " [5.1 3.8 1.5 0.3]\n",
            " [5.6 2.5 3.9 1.1]\n",
            " [6.  2.2 5.  1.5]\n",
            " [5.4 3.4 1.7 0.2]\n",
            " [5.9 3.2 4.8 1.8]\n",
            " [6.9 3.2 5.7 2.3]\n",
            " [5.1 3.7 1.5 0.4]\n",
            " [6.1 2.8 4.  1.3]\n",
            " [5.6 2.8 4.9 2. ]\n",
            " [4.6 3.6 1.  0.2]\n",
            " [6.3 2.5 4.9 1.5]\n",
            " [7.7 2.8 6.7 2. ]\n",
            " [5.1 3.3 1.7 0.5]\n",
            " [6.1 2.8 4.7 1.2]\n",
            " [6.3 2.7 4.9 1.8]\n",
            " [4.8 3.4 1.9 0.2]\n",
            " [6.4 2.9 4.3 1.3]\n",
            " [6.7 3.3 5.7 2.1]\n",
            " [5.  3.  1.6 0.2]\n",
            " [6.6 3.  4.4 1.4]\n",
            " [7.2 3.2 6.  1.8]\n",
            " [5.  3.4 1.6 0.4]\n",
            " [6.8 2.8 4.8 1.4]\n",
            " [6.2 2.8 4.8 1.8]\n",
            " [5.2 3.5 1.5 0.2]\n",
            " [6.7 3.  5.  1.7]\n",
            " [6.1 3.  4.9 1.8]\n",
            " [5.2 3.4 1.4 0.2]\n",
            " [6.  2.9 4.5 1.5]\n",
            " [6.4 2.8 5.6 2.1]\n",
            " [4.7 3.2 1.6 0.2]\n",
            " [5.7 2.6 3.5 1. ]\n",
            " [7.2 3.  5.8 1.6]\n",
            " [4.8 3.1 1.6 0.2]\n",
            " [5.5 2.4 3.8 1.1]\n",
            " [7.4 2.8 6.1 1.9]\n",
            " [5.4 3.4 1.5 0.4]\n",
            " [5.5 2.4 3.7 1. ]\n",
            " [7.9 3.8 6.4 2. ]\n",
            " [5.2 4.1 1.5 0.1]\n",
            " [5.8 2.7 3.9 1.2]\n",
            " [6.4 2.8 5.6 2.2]\n",
            " [5.5 4.2 1.4 0.2]\n",
            " [6.  2.7 5.1 1.6]\n",
            " [6.3 2.8 5.1 1.5]\n",
            " [4.9 3.1 1.5 0.2]\n",
            " [5.4 3.  4.5 1.5]\n",
            " [6.1 2.6 5.6 1.4]\n",
            " [5.  3.2 1.2 0.2]\n",
            " [6.  3.4 4.5 1.6]\n",
            " [7.7 3.  6.1 2.3]\n",
            " [5.5 3.5 1.3 0.2]\n",
            " [6.7 3.1 4.7 1.5]\n",
            " [6.3 3.4 5.6 2.4]\n",
            " [4.9 3.6 1.4 0.1]\n",
            " [6.3 2.3 4.4 1.3]\n",
            " [6.4 3.1 5.5 1.8]\n",
            " [4.4 3.  1.3 0.2]\n",
            " [5.6 3.  4.1 1.3]\n",
            " [6.  3.  4.8 1.8]\n",
            " [5.1 3.4 1.5 0.2]\n",
            " [5.5 2.5 4.  1.3]\n",
            " [6.9 3.1 5.4 2.1]\n",
            " [5.  3.5 1.3 0.3]\n",
            " [5.5 2.6 4.4 1.2]\n",
            " [6.7 3.1 5.6 2.4]\n",
            " [4.5 2.3 1.3 0.3]\n",
            " [6.1 3.  4.6 1.4]\n",
            " [6.9 3.1 5.1 2.3]\n",
            " [4.4 3.2 1.3 0.2]\n",
            " [5.8 2.6 4.  1.2]\n",
            " [5.8 2.7 5.1 1.9]\n",
            " [5.  3.5 1.6 0.6]\n",
            " [5.  2.3 3.3 1. ]\n",
            " [6.8 3.2 5.9 2.3]\n",
            " [5.1 3.8 1.9 0.4]\n",
            " [5.6 2.7 4.2 1.3]\n",
            " [6.7 3.3 5.7 2.5]\n",
            " [4.8 3.  1.4 0.3]\n",
            " [5.7 3.  4.2 1.2]\n",
            " [6.7 3.  5.2 2.3]\n",
            " [5.1 3.8 1.6 0.2]\n",
            " [5.7 2.9 4.2 1.3]\n",
            " [6.3 2.5 5.  1.9]\n",
            " [4.6 3.2 1.4 0.2]\n",
            " [6.2 2.9 4.3 1.3]\n",
            " [6.5 3.  5.2 2. ]\n",
            " [5.3 3.7 1.5 0.2]\n",
            " [5.1 2.5 3.  1.1]\n",
            " [6.2 3.4 5.4 2.3]\n",
            " [5.  3.3 1.4 0.2]\n",
            " [5.7 2.8 4.1 1.3]\n",
            " [5.9 3.  5.1 1.8]]\n"
          ],
          "name": "stdout"
        }
      ]
    },
    {
      "cell_type": "code",
      "metadata": {
        "id": "dbZGXij-ynyM"
      },
      "source": [
        "from sklearn import preprocessing\r\n",
        "from sklearn.preprocessing import StandardScaler"
      ],
      "execution_count": null,
      "outputs": []
    },
    {
      "cell_type": "code",
      "metadata": {
        "id": "uys0AKmNyZXl"
      },
      "source": [
        "D = StandardScaler().fit_transform(Df)"
      ],
      "execution_count": null,
      "outputs": []
    },
    {
      "cell_type": "code",
      "metadata": {
        "colab": {
          "base_uri": "https://localhost:8080/"
        },
        "id": "YBnyAibtytKo",
        "outputId": "2b33d93e-756b-4019-c7cc-6ba301dce6a4"
      },
      "source": [
        "print(D)"
      ],
      "execution_count": null,
      "outputs": [
        {
          "output_type": "stream",
          "text": [
            "[[-9.00681170e-01  1.01900435e+00 -1.34022653e+00 -1.31544430e+00]\n",
            " [ 1.40150837e+00  3.28414053e-01  5.35408562e-01  2.64141916e-01]\n",
            " [ 5.53333275e-01  5.58610819e-01  1.27429511e+00  1.71209594e+00]\n",
            " [-1.14301691e+00 -1.31979479e-01 -1.34022653e+00 -1.31544430e+00]\n",
            " [ 6.74501145e-01  3.28414053e-01  4.21733708e-01  3.95774101e-01]\n",
            " [-5.25060772e-02 -8.22569778e-01  7.62758269e-01  9.22302838e-01]\n",
            " [-1.38535265e+00  3.28414053e-01 -1.39706395e+00 -1.31544430e+00]\n",
            " [ 1.28034050e+00  9.82172869e-02  6.49083415e-01  3.95774101e-01]\n",
            " [ 1.52267624e+00 -1.31979479e-01  1.21745768e+00  1.18556721e+00]\n",
            " [-1.50652052e+00  9.82172869e-02 -1.28338910e+00 -1.31544430e+00]\n",
            " [-4.16009689e-01 -1.74335684e+00  1.37546573e-01  1.32509732e-01]\n",
            " [ 5.53333275e-01 -3.62176246e-01  1.04694540e+00  7.90670654e-01]\n",
            " [-1.02184904e+00  1.24920112e+00 -1.34022653e+00 -1.31544430e+00]\n",
            " [ 7.95669016e-01 -5.92373012e-01  4.78571135e-01  3.95774101e-01]\n",
            " [ 7.95669016e-01 -1.31979479e-01  1.16062026e+00  1.31719939e+00]\n",
            " [-5.37177559e-01  1.93979142e+00 -1.16971425e+00 -1.05217993e+00]\n",
            " [-1.73673948e-01 -5.92373012e-01  4.21733708e-01  1.32509732e-01]\n",
            " [ 2.12851559e+00 -1.31979479e-01  1.61531967e+00  1.18556721e+00]\n",
            " [-1.50652052e+00  7.88807586e-01 -1.34022653e+00 -1.18381211e+00]\n",
            " [ 5.53333275e-01  5.58610819e-01  5.35408562e-01  5.27406285e-01]\n",
            " [-1.14301691e+00 -1.28296331e+00  4.21733708e-01  6.59038469e-01]\n",
            " [-1.02184904e+00  7.88807586e-01 -1.28338910e+00 -1.31544430e+00]\n",
            " [-1.14301691e+00 -1.51316008e+00 -2.60315415e-01 -2.62386821e-01]\n",
            " [ 1.76501198e+00 -3.62176246e-01  1.44480739e+00  7.90670654e-01]\n",
            " [-1.74885626e+00 -3.62176246e-01 -1.34022653e+00 -1.31544430e+00]\n",
            " [ 9.16836886e-01 -3.62176246e-01  4.78571135e-01  1.32509732e-01]\n",
            " [ 1.03800476e+00 -1.28296331e+00  1.16062026e+00  7.90670654e-01]\n",
            " [-1.14301691e+00  9.82172869e-02 -1.28338910e+00 -1.44707648e+00]\n",
            " [-7.79513300e-01 -8.22569778e-01  8.07091462e-02  2.64141916e-01]\n",
            " [ 1.64384411e+00  1.24920112e+00  1.33113254e+00  1.71209594e+00]\n",
            " [-5.37177559e-01  1.47939788e+00 -1.28338910e+00 -1.31544430e+00]\n",
            " [-1.02184904e+00 -2.43394714e+00 -1.46640561e-01 -2.62386821e-01]\n",
            " [ 7.95669016e-01  3.28414053e-01  7.62758269e-01  1.05393502e+00]\n",
            " [-1.26418478e+00  7.88807586e-01 -1.22655167e+00 -1.31544430e+00]\n",
            " [ 6.86617933e-02 -1.31979479e-01  2.51221427e-01  3.95774101e-01]\n",
            " [ 6.74501145e-01 -8.22569778e-01  8.76433123e-01  9.22302838e-01]\n",
            " [-1.26418478e+00 -1.31979479e-01 -1.34022653e+00 -1.44707648e+00]\n",
            " [ 1.89829664e-01 -1.97355361e+00  1.37546573e-01 -2.62386821e-01]\n",
            " [ 1.15917263e+00 -1.31979479e-01  9.90107977e-01  1.18556721e+00]\n",
            " [-1.87002413e+00 -1.31979479e-01 -1.51073881e+00 -1.44707648e+00]\n",
            " [ 3.10997534e-01 -3.62176246e-01  5.35408562e-01  2.64141916e-01]\n",
            " [-1.73673948e-01 -1.28296331e+00  7.05920842e-01  1.05393502e+00]\n",
            " [-5.25060772e-02  2.16998818e+00 -1.45390138e+00 -1.31544430e+00]\n",
            " [-2.94841818e-01 -3.62176246e-01 -8.98031345e-02  1.32509732e-01]\n",
            " [-5.25060772e-02 -5.92373012e-01  7.62758269e-01  1.58046376e+00]\n",
            " [-1.73673948e-01  3.09077525e+00 -1.28338910e+00 -1.05217993e+00]\n",
            " [ 1.03800476e+00  9.82172869e-02  3.64896281e-01  2.64141916e-01]\n",
            " [ 6.74501145e-01  3.28414053e-01  8.76433123e-01  1.44883158e+00]\n",
            " [-5.37177559e-01  1.93979142e+00 -1.39706395e+00 -1.05217993e+00]\n",
            " [-2.94841818e-01 -1.31979479e-01  4.21733708e-01  3.95774101e-01]\n",
            " [ 7.95669016e-01 -1.31979479e-01  9.90107977e-01  7.90670654e-01]\n",
            " [-9.00681170e-01  1.01900435e+00 -1.34022653e+00 -1.18381211e+00]\n",
            " [-5.25060772e-02 -8.22569778e-01  1.94384000e-01 -2.62386821e-01]\n",
            " [ 2.24968346e+00  1.70959465e+00  1.67215710e+00  1.31719939e+00]\n",
            " [-1.73673948e-01  1.70959465e+00 -1.16971425e+00 -1.18381211e+00]\n",
            " [ 4.32165405e-01 -1.97355361e+00  4.21733708e-01  3.95774101e-01]\n",
            " [ 2.24968346e+00 -1.05276654e+00  1.78583195e+00  1.44883158e+00]\n",
            " [-9.00681170e-01  1.70959465e+00 -1.28338910e+00 -1.18381211e+00]\n",
            " [-2.94841818e-01 -1.28296331e+00  8.07091462e-02 -1.30754636e-01]\n",
            " [ 1.89829664e-01 -1.97355361e+00  7.05920842e-01  3.95774101e-01]\n",
            " [-5.37177559e-01  7.88807586e-01 -1.16971425e+00 -1.31544430e+00]\n",
            " [ 6.86617933e-02  3.28414053e-01  5.92245988e-01  7.90670654e-01]\n",
            " [ 1.28034050e+00  3.28414053e-01  1.10378283e+00  1.44883158e+00]\n",
            " [-9.00681170e-01  1.47939788e+00 -1.28338910e+00 -1.05217993e+00]\n",
            " [ 3.10997534e-01 -5.92373012e-01  1.37546573e-01  1.32509732e-01]\n",
            " [-2.94841818e-01 -5.92373012e-01  6.49083415e-01  1.05393502e+00]\n",
            " [-1.50652052e+00  1.24920112e+00 -1.56757623e+00 -1.31544430e+00]\n",
            " [ 5.53333275e-01 -1.28296331e+00  6.49083415e-01  3.95774101e-01]\n",
            " [ 2.24968346e+00 -5.92373012e-01  1.67215710e+00  1.05393502e+00]\n",
            " [-9.00681170e-01  5.58610819e-01 -1.16971425e+00 -9.20547742e-01]\n",
            " [ 3.10997534e-01 -5.92373012e-01  5.35408562e-01  8.77547895e-04]\n",
            " [ 5.53333275e-01 -8.22569778e-01  6.49083415e-01  7.90670654e-01]\n",
            " [-1.26418478e+00  7.88807586e-01 -1.05603939e+00 -1.31544430e+00]\n",
            " [ 6.74501145e-01 -3.62176246e-01  3.08058854e-01  1.32509732e-01]\n",
            " [ 1.03800476e+00  5.58610819e-01  1.10378283e+00  1.18556721e+00]\n",
            " [-1.02184904e+00 -1.31979479e-01 -1.22655167e+00 -1.31544430e+00]\n",
            " [ 9.16836886e-01 -1.31979479e-01  3.64896281e-01  2.64141916e-01]\n",
            " [ 1.64384411e+00  3.28414053e-01  1.27429511e+00  7.90670654e-01]\n",
            " [-1.02184904e+00  7.88807586e-01 -1.22655167e+00 -1.05217993e+00]\n",
            " [ 1.15917263e+00 -5.92373012e-01  5.92245988e-01  2.64141916e-01]\n",
            " [ 4.32165405e-01 -5.92373012e-01  5.92245988e-01  7.90670654e-01]\n",
            " [-7.79513300e-01  1.01900435e+00 -1.28338910e+00 -1.31544430e+00]\n",
            " [ 1.03800476e+00 -1.31979479e-01  7.05920842e-01  6.59038469e-01]\n",
            " [ 3.10997534e-01 -1.31979479e-01  6.49083415e-01  7.90670654e-01]\n",
            " [-7.79513300e-01  7.88807586e-01 -1.34022653e+00 -1.31544430e+00]\n",
            " [ 1.89829664e-01 -3.62176246e-01  4.21733708e-01  3.95774101e-01]\n",
            " [ 6.74501145e-01 -5.92373012e-01  1.04694540e+00  1.18556721e+00]\n",
            " [-1.38535265e+00  3.28414053e-01 -1.22655167e+00 -1.31544430e+00]\n",
            " [-1.73673948e-01 -1.05276654e+00 -1.46640561e-01 -2.62386821e-01]\n",
            " [ 1.64384411e+00 -1.31979479e-01  1.16062026e+00  5.27406285e-01]\n",
            " [-1.26418478e+00  9.82172869e-02 -1.22655167e+00 -1.31544430e+00]\n",
            " [-4.16009689e-01 -1.51316008e+00  2.38717193e-02 -1.30754636e-01]\n",
            " [ 1.88617985e+00 -5.92373012e-01  1.33113254e+00  9.22302838e-01]\n",
            " [-5.37177559e-01  7.88807586e-01 -1.28338910e+00 -1.05217993e+00]\n",
            " [-4.16009689e-01 -1.51316008e+00 -3.29657076e-02 -2.62386821e-01]\n",
            " [ 2.49201920e+00  1.70959465e+00  1.50164482e+00  1.05393502e+00]\n",
            " [-7.79513300e-01  2.40018495e+00 -1.28338910e+00 -1.44707648e+00]\n",
            " [-5.25060772e-02 -8.22569778e-01  8.07091462e-02  8.77547895e-04]\n",
            " [ 6.74501145e-01 -5.92373012e-01  1.04694540e+00  1.31719939e+00]\n",
            " [-4.16009689e-01  2.63038172e+00 -1.34022653e+00 -1.31544430e+00]\n",
            " [ 1.89829664e-01 -8.22569778e-01  7.62758269e-01  5.27406285e-01]\n",
            " [ 5.53333275e-01 -5.92373012e-01  7.62758269e-01  3.95774101e-01]\n",
            " [-1.14301691e+00  9.82172869e-02 -1.28338910e+00 -1.31544430e+00]\n",
            " [-5.37177559e-01 -1.31979479e-01  4.21733708e-01  3.95774101e-01]\n",
            " [ 3.10997534e-01 -1.05276654e+00  1.04694540e+00  2.64141916e-01]\n",
            " [-1.02184904e+00  3.28414053e-01 -1.45390138e+00 -1.31544430e+00]\n",
            " [ 1.89829664e-01  7.88807586e-01  4.21733708e-01  5.27406285e-01]\n",
            " [ 2.24968346e+00 -1.31979479e-01  1.33113254e+00  1.44883158e+00]\n",
            " [-4.16009689e-01  1.01900435e+00 -1.39706395e+00 -1.31544430e+00]\n",
            " [ 1.03800476e+00  9.82172869e-02  5.35408562e-01  3.95774101e-01]\n",
            " [ 5.53333275e-01  7.88807586e-01  1.04694540e+00  1.58046376e+00]\n",
            " [-1.14301691e+00  1.24920112e+00 -1.34022653e+00 -1.44707648e+00]\n",
            " [ 5.53333275e-01 -1.74335684e+00  3.64896281e-01  1.32509732e-01]\n",
            " [ 6.74501145e-01  9.82172869e-02  9.90107977e-01  7.90670654e-01]\n",
            " [-1.74885626e+00 -1.31979479e-01 -1.39706395e+00 -1.31544430e+00]\n",
            " [-2.94841818e-01 -1.31979479e-01  1.94384000e-01  1.32509732e-01]\n",
            " [ 1.89829664e-01 -1.31979479e-01  5.92245988e-01  7.90670654e-01]\n",
            " [-9.00681170e-01  7.88807586e-01 -1.28338910e+00 -1.31544430e+00]\n",
            " [-4.16009689e-01 -1.28296331e+00  1.37546573e-01  1.32509732e-01]\n",
            " [ 1.28034050e+00  9.82172869e-02  9.33270550e-01  1.18556721e+00]\n",
            " [-1.02184904e+00  1.01900435e+00 -1.39706395e+00 -1.18381211e+00]\n",
            " [-4.16009689e-01 -1.05276654e+00  3.64896281e-01  8.77547895e-04]\n",
            " [ 1.03800476e+00  9.82172869e-02  1.04694540e+00  1.58046376e+00]\n",
            " [-1.62768839e+00 -1.74335684e+00 -1.39706395e+00 -1.18381211e+00]\n",
            " [ 3.10997534e-01 -1.31979479e-01  4.78571135e-01  2.64141916e-01]\n",
            " [ 1.28034050e+00  9.82172869e-02  7.62758269e-01  1.44883158e+00]\n",
            " [-1.74885626e+00  3.28414053e-01 -1.39706395e+00 -1.31544430e+00]\n",
            " [-5.25060772e-02 -1.05276654e+00  1.37546573e-01  8.77547895e-04]\n",
            " [-5.25060772e-02 -8.22569778e-01  7.62758269e-01  9.22302838e-01]\n",
            " [-1.02184904e+00  1.01900435e+00 -1.22655167e+00 -7.88915558e-01]\n",
            " [-1.02184904e+00 -1.74335684e+00 -2.60315415e-01 -2.62386821e-01]\n",
            " [ 1.15917263e+00  3.28414053e-01  1.21745768e+00  1.44883158e+00]\n",
            " [-9.00681170e-01  1.70959465e+00 -1.05603939e+00 -1.05217993e+00]\n",
            " [-2.94841818e-01 -8.22569778e-01  2.51221427e-01  1.32509732e-01]\n",
            " [ 1.03800476e+00  5.58610819e-01  1.10378283e+00  1.71209594e+00]\n",
            " [-1.26418478e+00 -1.31979479e-01 -1.34022653e+00 -1.18381211e+00]\n",
            " [-1.73673948e-01 -1.31979479e-01  2.51221427e-01  8.77547895e-04]\n",
            " [ 1.03800476e+00 -1.31979479e-01  8.19595696e-01  1.44883158e+00]\n",
            " [-9.00681170e-01  1.70959465e+00 -1.22655167e+00 -1.31544430e+00]\n",
            " [-1.73673948e-01 -3.62176246e-01  2.51221427e-01  1.32509732e-01]\n",
            " [ 5.53333275e-01 -1.28296331e+00  7.05920842e-01  9.22302838e-01]\n",
            " [-1.50652052e+00  3.28414053e-01 -1.34022653e+00 -1.31544430e+00]\n",
            " [ 4.32165405e-01 -3.62176246e-01  3.08058854e-01  1.32509732e-01]\n",
            " [ 7.95669016e-01 -1.31979479e-01  8.19595696e-01  1.05393502e+00]\n",
            " [-6.58345429e-01  1.47939788e+00 -1.28338910e+00 -1.31544430e+00]\n",
            " [-9.00681170e-01 -1.28296331e+00 -4.30827696e-01 -1.30754636e-01]\n",
            " [ 4.32165405e-01  7.88807586e-01  9.33270550e-01  1.44883158e+00]\n",
            " [-1.02184904e+00  5.58610819e-01 -1.34022653e+00 -1.31544430e+00]\n",
            " [-1.73673948e-01 -5.92373012e-01  1.94384000e-01  1.32509732e-01]\n",
            " [ 6.86617933e-02 -1.31979479e-01  7.62758269e-01  7.90670654e-01]]\n"
          ],
          "name": "stdout"
        }
      ]
    },
    {
      "cell_type": "code",
      "metadata": {
        "id": "b-s3JAI_1ZVE"
      },
      "source": [
        "from scipy.spatial.distance import cdist"
      ],
      "execution_count": null,
      "outputs": []
    },
    {
      "cell_type": "code",
      "metadata": {
        "colab": {
          "base_uri": "https://localhost:8080/",
          "height": 291
        },
        "id": "uFuo0YFfzfow",
        "outputId": "8d9183e2-beac-4cd1-93a8-37e122b960ac"
      },
      "source": [
        "\r\n",
        "# k means determine k\r\n",
        "distortions = []\r\n",
        "K = range(1,10)\r\n",
        "for k in K:\r\n",
        "    kmeanModel = KMeans(n_clusters=k).fit(D)\r\n",
        "    kmeanModel.fit(D)\r\n",
        "    distortions.append(sum(np.min(cdist(D, kmeanModel.cluster_centers_, 'euclidean'), axis=1)) / D.shape[0])\r\n",
        "\r\n",
        "# Plot the elbow\r\n",
        "plot.plot(K, distortions, 'bx-')\r\n",
        "plot.xlabel('k')\r\n",
        "plot.ylabel('Distortion')\r\n",
        "plot.title('The Elbow Method showing the optimal k')\r\n",
        "plot.show()"
      ],
      "execution_count": null,
      "outputs": [
        {
          "output_type": "display_data",
          "data": {
            "image/png": "[encoded data removed]",
            "text/plain": [
              "<Figure size 432x288 with 1 Axes>"
            ]
          },
          "metadata": {
            "tags": [],
            "needs_background": "light"
          }
        }
      ]
    },
    {
      "cell_type": "markdown",
      "metadata": {
        "id": "UF69Gi7Y31TL"
      },
      "source": [
        "Clustering iris data set with optimal value of K as 3"
      ]
    },
    {
      "cell_type": "code",
      "metadata": {
        "colab": {
          "base_uri": "https://localhost:8080/"
        },
        "id": "cinyl6sE1b2f",
        "outputId": "cf70057f-fbbe-40df-8311-09de7b932946"
      },
      "source": [
        "kmeans = KMeans(n_clusters=3)\r\n",
        "kmeans.fit(D)\r\n",
        "centroids = kmeans.cluster_centers_\r\n",
        "label = kmeans.labels_\r\n",
        "print (\"Cluster Centers are :\", centroids)\r\n",
        "print (\"Labels :\", label)"
      ],
      "execution_count": null,
      "outputs": [
        {
          "output_type": "stream",
          "text": [
            "Cluster Centers are : [[ 1.13597027  0.08842168  0.99615451  1.01752612]\n",
            " [-1.01457897  0.85326268 -1.30498732 -1.25489349]\n",
            " [-0.05021989 -0.88337647  0.34773781  0.2815273 ]]\n",
            "Labels : [1 0 0 1 0 2 1 0 0 1 2 0 1 2 0 1 2 0 1 0 2 1 2 0 1 2 0 1 2 0 1 2 0 1 2 0 1\n",
            " 2 0 1 2 2 1 2 2 1 0 0 1 2 0 1 2 0 1 2 0 1 2 2 1 0 0 1 2 2 1 2 0 1 2 2 1 2\n",
            " 0 1 0 0 1 0 2 1 0 0 1 2 0 1 2 0 1 2 0 1 2 0 1 2 0 1 2 2 1 2 2 1 0 0 1 0 0\n",
            " 1 2 0 1 2 2 1 2 0 1 2 0 1 2 0 1 2 2 1 2 0 1 2 0 1 2 0 1 2 2 1 2 0 1 2 0 1\n",
            " 2 2]\n"
          ],
          "name": "stdout"
        }
      ]
    },
    {
      "cell_type": "code",
      "metadata": {
        "colab": {
          "base_uri": "https://localhost:8080/",
          "height": 262
        },
        "id": "ixdHxT4S1nMk",
        "outputId": "6b65671c-57e3-41ec-921d-721036777361"
      },
      "source": [
        "\r\n",
        "import matplotlib.pyplot as plot\r\n",
        "colours = ['r.', 'k.','b.','m.','g.']\r\n",
        "for i in range(len(D)):\r\n",
        "    plot.plot(D[i][0], D[i][1], colours[label[i]], markersize = 10 )\r\n",
        "for i in range(len(centroids)):\r\n",
        "    plot.plot(centroids[i][0], centroids[i][1], colours[i], markersize = 12, marker='*' )\r\n",
        "plot.show()"
      ],
      "execution_count": null,
      "outputs": [
        {
          "output_type": "display_data",
          "data": {
            "image/png": "[encoded data removed]",
            "text/plain": [
              "<Figure size 432x288 with 1 Axes>"
            ]
          },
          "metadata": {
            "tags": [],
            "needs_background": "light"
          }
        }
      ]
    },
    {
      "cell_type": "code",
      "metadata": {
        "colab": {
          "base_uri": "https://localhost:8080/"
        },
        "id": "PN-Lj3GS1oxT",
        "outputId": "ff26406c-817d-4a8a-df3e-af1a363c93a6"
      },
      "source": [
        "\r\n",
        "Sil_score=silhouette_score(D,label)\r\n",
        "print (\"Silhouette Score: \", Sil_score)"
      ],
      "execution_count": null,
      "outputs": [
        {
          "output_type": "stream",
          "text": [
            "Silhouette Score:  0.45994823920518646\n"
          ],
          "name": "stdout"
        }
      ]
    },
    {
      "cell_type": "code",
      "metadata": {
        "id": "D5BYFhqM3S2Q"
      },
      "source": [
        "from sklearn import metrics\r\n"
      ],
      "execution_count": null,
      "outputs": []
    },
    {
      "cell_type": "code",
      "metadata": {
        "colab": {
          "base_uri": "https://localhost:8080/"
        },
        "id": "3_SJWK9510Q8",
        "outputId": "e90f180c-975f-4c45-b351-ea9453d83ef0"
      },
      "source": [
        "ARI=metrics.adjusted_rand_score(true_label, label)\r\n",
        "print (ARI)"
      ],
      "execution_count": null,
      "outputs": [
        {
          "output_type": "stream",
          "text": [
            "0.6201351808870379\n"
          ],
          "name": "stdout"
        }
      ]
    },
    {
      "cell_type": "markdown",
      "metadata": {
        "id": "pkzV59C-33rX"
      },
      "source": [
        "**Clustering iris data set with optimal value of K as 4**\r\n"
      ]
    },
    {
      "cell_type": "code",
      "metadata": {
        "colab": {
          "base_uri": "https://localhost:8080/"
        },
        "id": "z0DuKSFc38oa",
        "outputId": "4b710242-05f2-49bb-a094-4b77f477837e"
      },
      "source": [
        "kmeans = KMeans(n_clusters=4)\r\n",
        "kmeans.fit(D)\r\n",
        "centroids = kmeans.cluster_centers_\r\n",
        "label = kmeans.labels_\r\n",
        "print (\"Cluster Centers are :\", centroids)\r\n",
        "print (\"Labels :\", label)"
      ],
      "execution_count": null,
      "outputs": [
        {
          "output_type": "stream",
          "text": [
            "Cluster Centers are : [[-0.01139555 -0.87600831  0.37707573  0.31115341]\n",
            " [-0.74922133  1.43007001 -1.29759846 -1.22142131]\n",
            " [ 1.16743407  0.14530299  1.00302557  1.0300019 ]\n",
            " [-1.35230687  0.11914427 -1.31439133 -1.29749445]]\n",
            "Labels : [1 2 2 3 2 0 3 2 2 3 0 2 1 0 2 1 0 2 3 2 0 1 0 2 3 0 0 3 0 2 1 0 2 3 0 0 3\n",
            " 0 2 3 0 0 1 0 0 1 2 2 1 0 2 1 0 2 1 0 2 1 0 0 1 2 2 1 0 0 1 0 2 3 0 0 3 0\n",
            " 2 3 2 2 1 2 0 1 2 0 1 0 2 3 0 2 3 0 2 1 0 2 1 0 2 1 0 0 3 0 0 3 2 2 1 2 2\n",
            " 1 0 2 3 0 0 1 0 2 1 0 2 3 0 2 3 0 0 1 0 2 1 0 2 3 0 2 1 0 0 3 0 2 1 0 2 3\n",
            " 0 0]\n"
          ],
          "name": "stdout"
        }
      ]
    },
    {
      "cell_type": "code",
      "metadata": {
        "colab": {
          "base_uri": "https://localhost:8080/",
          "height": 262
        },
        "id": "-MEWjvwX4Ppv",
        "outputId": "83e161df-f7e9-4856-8543-179f197bdaa5"
      },
      "source": [
        "import matplotlib.pyplot as plot\r\n",
        "colours = ['r.', 'k.','b.','m.','g.']\r\n",
        "for i in range(len(D)):\r\n",
        "    plot.plot(D[i][0], D[i][1], colours[label[i]], markersize = 10 )\r\n",
        "for i in range(len(centroids)):\r\n",
        "    plot.plot(centroids[i][0], centroids[i][1], colours[i], markersize = 12, marker='*' )\r\n",
        "plot.show()"
      ],
      "execution_count": null,
      "outputs": [
        {
          "output_type": "display_data",
          "data": {
            "image/png": "[encoded data removed]",
            "text/plain": [
              "<Figure size 432x288 with 1 Axes>"
            ]
          },
          "metadata": {
            "tags": [],
            "needs_background": "light"
          }
        }
      ]
    },
    {
      "cell_type": "code",
      "metadata": {
        "colab": {
          "base_uri": "https://localhost:8080/"
        },
        "id": "kFtfAxNg4S1l",
        "outputId": "a395b4b9-103c-4a69-d2d7-67cd44ace385"
      },
      "source": [
        "Sil_score=silhouette_score(D,label)\r\n",
        "print (\"Silhouette Score: \", Sil_score)"
      ],
      "execution_count": null,
      "outputs": [
        {
          "output_type": "stream",
          "text": [
            "Silhouette Score:  0.38822009621659853\n"
          ],
          "name": "stdout"
        }
      ]
    },
    {
      "cell_type": "code",
      "metadata": {
        "colab": {
          "base_uri": "https://localhost:8080/"
        },
        "id": "yg_Wgq1q4WbL",
        "outputId": "3d8aecae-ed47-42aa-e700-5f04183ec57f"
      },
      "source": [
        "ARI=metrics.adjusted_rand_score(true_label, label)\r\n",
        "print (ARI)"
      ],
      "execution_count": null,
      "outputs": [
        {
          "output_type": "stream",
          "text": [
            "0.44406452893311793\n"
          ],
          "name": "stdout"
        }
      ]
    },
    {
      "cell_type": "markdown",
      "metadata": {
        "id": "t99-jVmq4Jel"
      },
      "source": [
        "**Clustering iris data set with optimal value of K as 5**"
      ]
    },
    {
      "cell_type": "code",
      "metadata": {
        "colab": {
          "base_uri": "https://localhost:8080/"
        },
        "id": "gye3VDAY4K62",
        "outputId": "7596e45c-d292-4a89-ce5e-bd2775a870ae"
      },
      "source": [
        "kmeans = KMeans(n_clusters=5)\r\n",
        "kmeans.fit(D)\r\n",
        "centroids = kmeans.cluster_centers_\r\n",
        "label = kmeans.labels_\r\n",
        "print (\"Cluster Centers are :\", centroids)\r\n",
        "print (\"Labels :\", label)"
      ],
      "execution_count": null,
      "outputs": [
        {
          "output_type": "stream",
          "text": [
            "Cluster Centers are : [[-1.30780521  0.19950386 -1.30839757 -1.28911786]\n",
            " [ 1.40150837  0.23463019  1.20272206  1.28307253]\n",
            " [ 0.44478706 -0.34299318  0.61000768  0.55482966]\n",
            " [-0.33846225 -1.30137905  0.13982007  0.05879571]\n",
            " [-0.72135272  1.5070215  -1.30157708 -1.22066912]]\n",
            "Labels : [4 2 1 0 2 2 0 2 1 0 3 2 4 2 1 4 3 1 0 2 3 0 3 1 0 2 2 0 3 1 4 3 1 0 2 2 0\n",
            " 3 1 0 2 3 4 3 2 4 2 1 4 2 2 4 3 1 4 3 1 4 3 3 4 2 1 4 2 2 4 2 1 0 2 2 0 2\n",
            " 1 0 2 1 0 2 2 4 2 2 4 2 2 0 3 1 0 3 1 4 3 1 4 3 2 4 2 2 0 2 2 0 2 1 4 2 1\n",
            " 4 3 2 0 2 2 0 3 1 4 3 1 0 2 1 0 3 2 4 3 1 4 3 1 0 2 1 4 2 2 0 2 2 4 3 1 0\n",
            " 3 2]\n"
          ],
          "name": "stdout"
        }
      ]
    },
    {
      "cell_type": "code",
      "metadata": {
        "colab": {
          "base_uri": "https://localhost:8080/",
          "height": 262
        },
        "id": "68cai2rS4f5e",
        "outputId": "d3f136dd-b7ab-42e3-9a8c-16b9a24722f8"
      },
      "source": [
        "import matplotlib.pyplot as plot\r\n",
        "colours = ['r.', 'k.','b.','m.','g.']\r\n",
        "for i in range(len(D)):\r\n",
        "    plot.plot(D[i][0], D[i][1], colours[label[i]], markersize = 10 )\r\n",
        "for i in range(len(centroids)):\r\n",
        "    plot.plot(centroids[i][0], centroids[i][1], colours[i], markersize = 12, marker='*' )\r\n",
        "plot.show()"
      ],
      "execution_count": null,
      "outputs": [
        {
          "output_type": "display_data",
          "data": {
            "image/png": "[encoded data removed]",
            "text/plain": [
              "<Figure size 432x288 with 1 Axes>"
            ]
          },
          "metadata": {
            "tags": [],
            "needs_background": "light"
          }
        }
      ]
    },
    {
      "cell_type": "code",
      "metadata": {
        "colab": {
          "base_uri": "https://localhost:8080/"
        },
        "id": "LDj62Vbi4jnx",
        "outputId": "421cdcc5-ad33-409a-aab8-04c179db232c"
      },
      "source": [
        "Sil_score=silhouette_score(D,label)\r\n",
        "print (\"Silhouette Score: \", Sil_score)"
      ],
      "execution_count": null,
      "outputs": [
        {
          "output_type": "stream",
          "text": [
            "Silhouette Score:  0.3423633957670477\n"
          ],
          "name": "stdout"
        }
      ]
    },
    {
      "cell_type": "code",
      "metadata": {
        "id": "-oVFyBTx4m4F",
        "colab": {
          "base_uri": "https://localhost:8080/"
        },
        "outputId": "5687f677-ac24-4815-e8d1-56d8a93dc682"
      },
      "source": [
        "ARI=metrics.adjusted_rand_score(true_label, label)\r\n",
        "print (ARI)"
      ],
      "execution_count": null,
      "outputs": [
        {
          "output_type": "stream",
          "text": [
            "0.43242677574061456\n"
          ],
          "name": "stdout"
        }
      ]
    },
    {
      "cell_type": "code",
      "metadata": {
        "id": "P034Fmzb6NSK"
      },
      "source": [
        ""
      ],
      "execution_count": null,
      "outputs": []
    }
  ]
}