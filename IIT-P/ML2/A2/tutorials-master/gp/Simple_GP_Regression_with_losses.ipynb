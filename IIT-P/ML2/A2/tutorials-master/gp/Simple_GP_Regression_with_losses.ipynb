{
  "nbformat": 4,
  "nbformat_minor": 0,
  "metadata": {
    "anaconda-cloud": {},
    "kernelspec": {
      "display_name": "Python 3",
      "language": "python",
      "name": "python3"
    },
    "language_info": {
      "codemirror_mode": {
        "name": "ipython",
        "version": 3
      },
      "file_extension": ".py",
      "mimetype": "text/x-python",
      "name": "python",
      "nbconvert_exporter": "python",
      "pygments_lexer": "ipython3",
      "version": "3.7.3"
    },
    "colab": {
      "name": "Simple_GP_Regression_with_losses.ipynb",
      "provenance": []
    }
  },
  "cells": [
    {
      "cell_type": "markdown",
      "metadata": {
        "id": "H5eALtXt2zIz",
        "colab_type": "text"
      },
      "source": [
        "# GPyTorch Regression Tutorial\n",
        "\n",
        "## Introduction\n",
        "\n",
        "In this notebook, we demonstrate many of the design features of GPyTorch using the simplest example, training an RBF kernel Gaussian process on a simple function. We'll be modeling the function\n",
        "\n",
        "\\begin{align}\n",
        "y &= \\sin(2\\pi x) + \\epsilon \\\\\n",
        "  \\epsilon &\\sim \\mathcal{N}(0, 0.2) \n",
        "\\end{align}\n",
        "\n",
        "with 100 training examples, and testing on 51 test examples.\n",
        "\n",
        "**Note:** this notebook is not necessarily intended to teach the mathematical background of Gaussian processes, but rather how to train a simple one and make predictions in GPyTorch. For a mathematical treatment, Chapter 2 of Gaussian Processes for Machine Learning provides a very thorough introduction to GP regression (this entire text is highly recommended): http://www.gaussianprocess.org/gpml/chapters/RW2.pdf"
      ]
    },
    {
      "cell_type": "code",
      "metadata": {
        "id": "CTKtUqjS3Oj5",
        "colab_type": "code",
        "outputId": "45978107-3de6-4d01-afcf-d82da3230be2",
        "colab": {
          "base_uri": "https://localhost:8080/",
          "height": 185
        }
      },
      "source": [
        "!pip install gpytorch"
      ],
      "execution_count": 0,
      "outputs": [
        {
          "output_type": "stream",
          "text": [
            "Collecting gpytorch\n",
            "\u001b[?25l  Downloading https://files.pythonhosted.org/packages/7a/c7/d8ec508a68c42bfc4fd68ef450b5b9379370b2b3679fab2381e3eea695c0/gpytorch-0.3.6.tar.gz (208kB)\n",
            "\r\u001b[K     |█▋                              | 10kB 20.1MB/s eta 0:00:01\r\u001b[K     |███▏                            | 20kB 6.5MB/s eta 0:00:01\r\u001b[K     |████▊                           | 30kB 8.9MB/s eta 0:00:01\r\u001b[K     |██████▎                         | 40kB 5.9MB/s eta 0:00:01\r\u001b[K     |███████▉                        | 51kB 7.1MB/s eta 0:00:01\r\u001b[K     |█████████▍                      | 61kB 8.4MB/s eta 0:00:01\r\u001b[K     |███████████                     | 71kB 9.5MB/s eta 0:00:01\r\u001b[K     |████████████▋                   | 81kB 10.5MB/s eta 0:00:01\r\u001b[K     |██████████████▏                 | 92kB 11.6MB/s eta 0:00:01\r\u001b[K     |███████████████▊                | 102kB 9.5MB/s eta 0:00:01\r\u001b[K     |█████████████████▎              | 112kB 9.5MB/s eta 0:00:01\r\u001b[K     |██████████████████▉             | 122kB 9.5MB/s eta 0:00:01\r\u001b[K     |████████████████████▍           | 133kB 9.5MB/s eta 0:00:01\r\u001b[K     |██████████████████████          | 143kB 9.5MB/s eta 0:00:01\r\u001b[K     |███████████████████████▌        | 153kB 9.5MB/s eta 0:00:01\r\u001b[K     |█████████████████████████▏      | 163kB 9.5MB/s eta 0:00:01\r\u001b[K     |██████████████████████████▊     | 174kB 9.5MB/s eta 0:00:01\r\u001b[K     |████████████████████████████▎   | 184kB 9.5MB/s eta 0:00:01\r\u001b[K     |█████████████████████████████▉  | 194kB 9.5MB/s eta 0:00:01\r\u001b[K     |███████████████████████████████▍| 204kB 9.5MB/s eta 0:00:01\r\u001b[K     |████████████████████████████████| 215kB 9.5MB/s \n",
            "\u001b[?25hBuilding wheels for collected packages: gpytorch\n",
            "  Building wheel for gpytorch (setup.py) ... \u001b[?25l\u001b[?25hdone\n",
            "  Created wheel for gpytorch: filename=gpytorch-0.3.6-py2.py3-none-any.whl size=351085 sha256=a2a63b10bb17e647080d7e287ba0dd91905e842864848b8f9eb92224cab3730a\n",
            "  Stored in directory: /root/.cache/pip/wheels/41/7f/81/d3961e5205b2e7146b489cbcd5eb612384c885f7216b654852\n",
            "Successfully built gpytorch\n",
            "Installing collected packages: gpytorch\n",
            "Successfully installed gpytorch-0.3.6\n"
          ],
          "name": "stdout"
        }
      ]
    },
    {
      "cell_type": "code",
      "metadata": {
        "id": "kfNtdh5l2zI4",
        "colab_type": "code",
        "outputId": "5c3adf66-e66b-4c6a-d897-f444bd06ccb0",
        "colab": {
          "base_uri": "https://localhost:8080/",
          "height": 50
        }
      },
      "source": [
        "import math\n",
        "import torch\n",
        "import gpytorch\n",
        "from matplotlib import pyplot as plt\n",
        "\n",
        "%matplotlib inline\n",
        "%load_ext autoreload\n",
        "%autoreload 2"
      ],
      "execution_count": 0,
      "outputs": [
        {
          "output_type": "stream",
          "text": [
            "The autoreload extension is already loaded. To reload it, use:\n",
            "  %reload_ext autoreload\n"
          ],
          "name": "stdout"
        }
      ]
    },
    {
      "cell_type": "markdown",
      "metadata": {
        "id": "YEFq6xb82zI-",
        "colab_type": "text"
      },
      "source": [
        "### Set up training data\n",
        "\n",
        "In the next cell, we set up the training data for this example. We'll be using 100 regularly spaced points on [0,1] which we evaluate the function on and add Gaussian noise to get the training labels."
      ]
    },
    {
      "cell_type": "code",
      "metadata": {
        "id": "lJ8gC7iu2zI_",
        "colab_type": "code",
        "colab": {}
      },
      "source": [
        "# Training data is 100 points in [0,1] inclusive regularly spaced\n",
        "train_x = torch.linspace(0, 1, 100)\n",
        "# True function is sin(2*pi*x) with Gaussian noise\n",
        "train_y = torch.sin(train_x * (2 * math.pi)) + torch.randn(train_x.size()) * 0.2"
      ],
      "execution_count": 0,
      "outputs": []
    },
    {
      "cell_type": "code",
      "metadata": {
        "id": "LB2xthX169f4",
        "colab_type": "code",
        "colab": {}
      },
      "source": [
        "# Validation data is 20 random points in [0,1]\n",
        "val_x = torch.rand(20)\n",
        "# True function is sin(2*pi*x) with Gaussian noise\n",
        "val_y = torch.sin(val_x * (2 * math.pi)) + torch.randn(val_x.size()) * 0.2"
      ],
      "execution_count": 0,
      "outputs": []
    },
    {
      "cell_type": "markdown",
      "metadata": {
        "id": "G720-zUy2zJb",
        "colab_type": "text"
      },
      "source": [
        "## Setting up the model\n",
        "\n",
        "The next cell demonstrates the most critical features of a user-defined Gaussian process model in GPyTorch. Building a GP model in GPyTorch is different in a number of ways.\n",
        "\n",
        "First in contrast to many existing GP packages, we do not provide full GP models for the user. Rather, we provide *the tools necessary to quickly construct one*. This is because we believe, analogous to building a neural network in standard PyTorch, it is important to have the flexibility to include whatever components are necessary. As can be seen in more complicated examples, this allows the user great flexibility in designing custom models.\n",
        "\n",
        "For most GP regression models, you will need to construct the following GPyTorch objects:\n",
        "\n",
        "1. A **GP Model** (`gpytorch.models.ExactGP`) -  This handles most of the inference.\n",
        "1. A **Likelihood** (`gpytorch.likelihoods.GaussianLikelihood`) - This is the most common likelihood used for GP regression.\n",
        "1. A **Mean** - This defines the prior mean of the GP.(If you don't know which mean to use, a `gpytorch.means.ConstantMean()` is a good place to start.)\n",
        "1. A **Kernel** - This defines the prior covariance of the GP.(If you don't know which kernel to use, a `gpytorch.kernels.ScaleKernel(gpytorch.kernels.RBFKernel())` is a good place to start).\n",
        "1. A **MultivariateNormal** Distribution (`gpytorch.distributions.MultivariateNormal`) - This is the object used to represent multivariate normal distributions.\n",
        "  \n",
        "  \n",
        "### The GP Model\n",
        "  \n",
        "The components of a user built (Exact, i.e. non-variational) GP model in GPyTorch are, broadly speaking:\n",
        "\n",
        "1. An `__init__` method that takes the training data and a likelihood, and constructs whatever objects are necessary for the model's `forward` method. This will most commonly include things like a mean module and a kernel module.\n",
        "\n",
        "2. A `forward` method that takes in some $n \\times d$ data `x` and returns a `MultivariateNormal` with the *prior* mean and covariance evaluated at `x`. In other words, we return the vector $\\mu(x)$ and the $n \\times n$ matrix $K_{xx}$ representing the prior mean and covariance matrix of the GP. \n",
        "\n",
        "This specification leaves a large amount of flexibility when defining a model. For example, to compose two kernels via addition, you can either add the kernel modules directly:\n",
        "\n",
        "```python\n",
        "self.covar_module = ScaleKernel(RBFKernel() + WhiteNoiseKernel())\n",
        "```\n",
        "\n",
        "Or you can add the outputs of the kernel in the forward method:\n",
        "\n",
        "```python\n",
        "covar_x = self.rbf_kernel_module(x) + self.white_noise_module(x)\n",
        "```"
      ]
    },
    {
      "cell_type": "code",
      "metadata": {
        "id": "e75EElnl51yc",
        "colab_type": "code",
        "outputId": "72b12112-942f-48dd-fe58-7b561931a2c7",
        "colab": {
          "base_uri": "https://localhost:8080/",
          "height": 67
        }
      },
      "source": [
        "torch.rand(3).unsqueeze(-1)"
      ],
      "execution_count": 0,
      "outputs": [
        {
          "output_type": "execute_result",
          "data": {
            "text/plain": [
              "tensor([[0.2786],\n",
              "        [0.6109],\n",
              "        [0.8235]])"
            ]
          },
          "metadata": {
            "tags": []
          },
          "execution_count": 7
        }
      ]
    },
    {
      "cell_type": "code",
      "metadata": {
        "id": "rtHu6azT2zJc",
        "colab_type": "code",
        "colab": {}
      },
      "source": [
        "# We will use the simplest form of GP model, exact inference\n",
        "class ExactGPModel(gpytorch.models.ExactGP):\n",
        "    def __init__(self, train_x, train_y, likelihood):\n",
        "        super(ExactGPModel, self).__init__(train_x, train_y, likelihood)\n",
        "        self.mean_module = gpytorch.means.ConstantMean()\n",
        "        self.covar_module = gpytorch.kernels.ScaleKernel(gpytorch.kernels.RBFKernel())\n",
        "    \n",
        "    def forward(self, x):\n",
        "        mean_x = self.mean_module(x)\n",
        "        covar_x = self.covar_module(x)\n",
        "        return gpytorch.distributions.MultivariateNormal(mean_x, covar_x)\n",
        "\n",
        "# initialize likelihood and model\n",
        "likelihood = gpytorch.likelihoods.GaussianLikelihood()\n",
        "model = ExactGPModel(train_x, train_y, likelihood)"
      ],
      "execution_count": 0,
      "outputs": []
    },
    {
      "cell_type": "markdown",
      "metadata": {
        "id": "gNPIcI6f2zJi",
        "colab_type": "text"
      },
      "source": [
        "### Model modes\n",
        "\n",
        "Like most PyTorch modules, the `ExactGP` has a `.train()` and `.eval()` mode.\n",
        "- `.train()` mode is for optimizing model hyperameters.\n",
        "- `.eval()` mode is for computing predictions through the model posterior."
      ]
    },
    {
      "cell_type": "markdown",
      "metadata": {
        "id": "9dUvepwW2zJj",
        "colab_type": "text"
      },
      "source": [
        "## Training the model\n",
        "\n",
        "In the next cell, we handle using Type-II MLE to train the hyperparameters of the Gaussian process.\n",
        "\n",
        "The most obvious difference here compared to many other GP implementations is that, as in standard PyTorch, the core training loop is written by the user. In GPyTorch, we make use of the standard PyTorch optimizers as from `torch.optim`, and all trainable parameters of the model should be of type `torch.nn.Parameter`. Because GP models directly extend `torch.nn.Module`, calls to methods like `model.parameters()` or `model.named_parameters()` function as you might expect coming from PyTorch.\n",
        "\n",
        "In most cases, the boilerplate code below will work well. It has the same basic components as the standard PyTorch training loop:\n",
        "\n",
        "1. Zero all parameter gradients\n",
        "2. Call the model and compute the loss\n",
        "3. Call backward on the loss to fill in gradients\n",
        "4. Take a step on the optimizer\n",
        "\n",
        "However, defining custom training loops allows for greater flexibility. For example, it is easy to save the parameters at each step of training, or use different learning rates for different parameters (which may be useful in deep kernel learning for example)."
      ]
    },
    {
      "cell_type": "code",
      "metadata": {
        "id": "hrNfPhqz3SrM",
        "colab_type": "code",
        "colab": {}
      },
      "source": [
        "train_loss_vec = []\n",
        "train_eval_loss_vec = []\n",
        "validation_loss_vec = []"
      ],
      "execution_count": 0,
      "outputs": []
    },
    {
      "cell_type": "code",
      "metadata": {
        "id": "wdwvAWQu_qmO",
        "colab_type": "code",
        "colab": {}
      },
      "source": [
        "# this is for running the notebook in our testing framework\n",
        "import os\n",
        "smoke_test = ('CI' in os.environ)\n",
        "training_iter = 2 if smoke_test else 50\n",
        "\n",
        "\n",
        "# Find optimal model hyperparameters\n",
        "model.train()\n",
        "likelihood.train()\n",
        "\n",
        "# Use the adam optimizer\n",
        "optimizer = torch.optim.Adam([\n",
        "    {'params': model.parameters()},  # Includes GaussianLikelihood parameters\n",
        "], lr=0.1)\n",
        "\n",
        "# \"Loss\" for GPs - the marginal log likelihood\n",
        "mll = gpytorch.mlls.ExactMarginalLogLikelihood(likelihood, model)"
      ],
      "execution_count": 0,
      "outputs": []
    },
    {
      "cell_type": "code",
      "metadata": {
        "id": "u-ATg3Vt_jO6",
        "colab_type": "code",
        "outputId": "f81ddabe-e4d7-45ae-9abd-85b2ad212a28",
        "colab": {
          "base_uri": "https://localhost:8080/",
          "height": 1000
        }
      },
      "source": [
        "for i in range(training_iter):\n",
        "    # Zero gradients from previous iteration\n",
        "    optimizer.zero_grad()\n",
        "    # Output from model\n",
        "    output = model(train_x)\n",
        "    # Calc loss and backprop gradients\n",
        "    train_loss = -mll(output, train_y)\n",
        "    train_loss_vec.append(train_loss.item()) ###\n",
        "    train_loss.backward()\n",
        "    print('(train mode)')\n",
        "    print('Iter %d/%d - Train Loss: %.3f   lengthscale: %.3f   noise: %.3f' % (\n",
        "        i + 1, training_iter, train_loss.item(),\n",
        "        model.covar_module.base_kernel.lengthscale.item(),\n",
        "        model.likelihood.noise.item()\n",
        "    ))\n",
        "    optimizer.step()\n",
        "    # Compute the validation error\n",
        "    # Switch the model(s) to eval mode\n",
        "    model.eval()\n",
        "    model.likelihood.eval()\n",
        "\n",
        "    output_train_eval = model(train_x)\n",
        "    train_eval_loss = -mll(output_train_eval, train_y)\n",
        "    train_eval_loss_vec.append(train_eval_loss.item())\n",
        "\n",
        "    output_val = model(val_x)\n",
        "    validation_loss = -mll(output_val, val_y)\n",
        "    validation_loss_vec.append(validation_loss.item())\n",
        "\n",
        "    # Switch the model(s) back to train mode and Put back flags to 1\n",
        "    model.train()\n",
        "    model.likelihood.train()\n",
        "\n",
        "    print('(eval mode)')\n",
        "    print('Iter %d/%d - Train loss: %.3f'\n",
        "    % (i + 1, training_iter, train_eval_loss.item()))\n",
        "    print('Iter %d/%d - Validation loss: %.3f'\n",
        "    % (i + 1, training_iter, validation_loss.item()))     "
      ],
      "execution_count": 0,
      "outputs": [
        {
          "output_type": "stream",
          "text": [
            "/usr/local/lib/python3.6/dist-packages/gpytorch/models/exact_gp.py:247: UserWarning: The input matches the stored training data. Did you forget to call model.train()?\n",
            "  \"The input matches the stored training data. Did you forget to call model.train()?\", UserWarning\n"
          ],
          "name": "stderr"
        },
        {
          "output_type": "stream",
          "text": [
            "(train mode)\n",
            "Iter 1/50 - Train Loss: 0.863   lengthscale: 0.644   noise: 0.644\n",
            "(eval mode)\n",
            "Iter 1/50 - Train loss: 0.830\n",
            "Iter 1/50 - Validation loss: 0.837\n",
            "(train mode)\n",
            "Iter 2/50 - Train Loss: 0.895   lengthscale: 0.602   noise: 0.598\n",
            "(eval mode)\n",
            "Iter 2/50 - Train loss: 0.771\n",
            "Iter 2/50 - Validation loss: 0.784\n",
            "(train mode)\n",
            "Iter 3/50 - Train Loss: 0.859   lengthscale: 0.561   noise: 0.554\n",
            "(eval mode)\n",
            "Iter 3/50 - Train loss: 0.715\n",
            "Iter 3/50 - Validation loss: 0.728\n",
            "(train mode)\n",
            "Iter 4/50 - Train Loss: 0.817   lengthscale: 0.520   noise: 0.513\n",
            "(eval mode)\n",
            "Iter 4/50 - Train loss: 0.656\n",
            "Iter 4/50 - Validation loss: 0.665\n",
            "(train mode)\n",
            "Iter 5/50 - Train Loss: 0.769   lengthscale: 0.482   noise: 0.474\n",
            "(eval mode)\n",
            "Iter 5/50 - Train loss: 0.599\n",
            "Iter 5/50 - Validation loss: 0.601\n",
            "(train mode)\n",
            "Iter 6/50 - Train Loss: 0.717   lengthscale: 0.445   noise: 0.437\n",
            "(eval mode)\n",
            "Iter 6/50 - Train loss: 0.548\n",
            "Iter 6/50 - Validation loss: 0.541\n",
            "(train mode)\n",
            "Iter 7/50 - Train Loss: 0.663   lengthscale: 0.410   noise: 0.402\n",
            "(eval mode)\n",
            "Iter 7/50 - Train loss: 0.503\n",
            "Iter 7/50 - Validation loss: 0.487\n",
            "(train mode)\n",
            "Iter 8/50 - Train Loss: 0.610   lengthscale: 0.378   noise: 0.370\n",
            "(eval mode)\n",
            "Iter 8/50 - Train loss: 0.462\n",
            "Iter 8/50 - Validation loss: 0.440\n",
            "(train mode)\n",
            "Iter 9/50 - Train Loss: 0.563   lengthscale: 0.347   noise: 0.339\n",
            "(eval mode)\n",
            "Iter 9/50 - Train loss: 0.424\n",
            "Iter 9/50 - Validation loss: 0.396\n",
            "(train mode)\n",
            "Iter 10/50 - Train Loss: 0.520   lengthscale: 0.320   noise: 0.310\n",
            "(eval mode)\n",
            "Iter 10/50 - Train loss: 0.386\n",
            "Iter 10/50 - Validation loss: 0.354\n",
            "(train mode)\n",
            "Iter 11/50 - Train Loss: 0.482   lengthscale: 0.296   noise: 0.284\n",
            "(eval mode)\n",
            "Iter 11/50 - Train loss: 0.349\n",
            "Iter 11/50 - Validation loss: 0.313\n",
            "(train mode)\n",
            "Iter 12/50 - Train Loss: 0.447   lengthscale: 0.275   noise: 0.259\n",
            "(eval mode)\n",
            "Iter 12/50 - Train loss: 0.312\n",
            "Iter 12/50 - Validation loss: 0.272\n",
            "(train mode)\n",
            "Iter 13/50 - Train Loss: 0.414   lengthscale: 0.258   noise: 0.237\n",
            "(eval mode)\n",
            "Iter 13/50 - Train loss: 0.276\n",
            "Iter 13/50 - Validation loss: 0.231\n",
            "(train mode)\n",
            "Iter 14/50 - Train Loss: 0.381   lengthscale: 0.244   noise: 0.216\n",
            "(eval mode)\n",
            "Iter 14/50 - Train loss: 0.240\n",
            "Iter 14/50 - Validation loss: 0.191\n",
            "(train mode)\n",
            "Iter 15/50 - Train Loss: 0.350   lengthscale: 0.232   noise: 0.196\n",
            "(eval mode)\n",
            "Iter 15/50 - Train loss: 0.204\n",
            "Iter 15/50 - Validation loss: 0.150\n",
            "(train mode)\n",
            "Iter 16/50 - Train Loss: 0.319   lengthscale: 0.223   noise: 0.179\n",
            "(eval mode)\n",
            "Iter 16/50 - Train loss: 0.170\n",
            "Iter 16/50 - Validation loss: 0.110\n",
            "(train mode)\n",
            "Iter 17/50 - Train Loss: 0.289   lengthscale: 0.217   noise: 0.162\n",
            "(eval mode)\n",
            "Iter 17/50 - Train loss: 0.136\n",
            "Iter 17/50 - Validation loss: 0.069\n",
            "(train mode)\n",
            "Iter 18/50 - Train Loss: 0.260   lengthscale: 0.212   noise: 0.148\n",
            "(eval mode)\n",
            "Iter 18/50 - Train loss: 0.104\n",
            "Iter 18/50 - Validation loss: 0.030\n",
            "(train mode)\n",
            "Iter 19/50 - Train Loss: 0.231   lengthscale: 0.209   noise: 0.134\n",
            "(eval mode)\n",
            "Iter 19/50 - Train loss: 0.073\n",
            "Iter 19/50 - Validation loss: -0.010\n",
            "(train mode)\n",
            "Iter 20/50 - Train Loss: 0.204   lengthscale: 0.207   noise: 0.122\n",
            "(eval mode)\n",
            "Iter 20/50 - Train loss: 0.043\n",
            "Iter 20/50 - Validation loss: -0.048\n",
            "(train mode)\n",
            "Iter 21/50 - Train Loss: 0.178   lengthscale: 0.207   noise: 0.111\n",
            "(eval mode)\n",
            "Iter 21/50 - Train loss: 0.016\n",
            "Iter 21/50 - Validation loss: -0.085\n",
            "(train mode)\n",
            "Iter 22/50 - Train Loss: 0.153   lengthscale: 0.209   noise: 0.101\n",
            "(eval mode)\n",
            "Iter 22/50 - Train loss: -0.009\n",
            "Iter 22/50 - Validation loss: -0.120\n",
            "(train mode)\n",
            "Iter 23/50 - Train Loss: 0.129   lengthscale: 0.211   noise: 0.092\n",
            "(eval mode)\n",
            "Iter 23/50 - Train loss: -0.032\n",
            "Iter 23/50 - Validation loss: -0.154\n",
            "(train mode)\n",
            "Iter 24/50 - Train Loss: 0.108   lengthscale: 0.215   noise: 0.084\n",
            "(eval mode)\n",
            "Iter 24/50 - Train loss: -0.053\n",
            "Iter 24/50 - Validation loss: -0.186\n",
            "(train mode)\n",
            "Iter 25/50 - Train Loss: 0.089   lengthscale: 0.220   noise: 0.077\n",
            "(eval mode)\n",
            "Iter 25/50 - Train loss: -0.071\n",
            "Iter 25/50 - Validation loss: -0.216\n",
            "(train mode)\n",
            "Iter 26/50 - Train Loss: 0.072   lengthscale: 0.225   noise: 0.070\n",
            "(eval mode)\n",
            "Iter 26/50 - Train loss: -0.086\n",
            "Iter 26/50 - Validation loss: -0.244\n",
            "(train mode)\n",
            "Iter 27/50 - Train Loss: 0.058   lengthscale: 0.232   noise: 0.065\n",
            "(eval mode)\n",
            "Iter 27/50 - Train loss: -0.098\n",
            "Iter 27/50 - Validation loss: -0.269\n",
            "(train mode)\n",
            "Iter 28/50 - Train Loss: 0.046   lengthscale: 0.239   noise: 0.060\n",
            "(eval mode)\n",
            "Iter 28/50 - Train loss: -0.107\n",
            "Iter 28/50 - Validation loss: -0.293\n",
            "(train mode)\n",
            "Iter 29/50 - Train Loss: 0.038   lengthscale: 0.248   noise: 0.055\n",
            "(eval mode)\n",
            "Iter 29/50 - Train loss: -0.113\n",
            "Iter 29/50 - Validation loss: -0.314\n",
            "(train mode)\n",
            "Iter 30/50 - Train Loss: 0.032   lengthscale: 0.256   noise: 0.051\n",
            "(eval mode)\n",
            "Iter 30/50 - Train loss: -0.117\n",
            "Iter 30/50 - Validation loss: -0.332\n",
            "(train mode)\n",
            "Iter 31/50 - Train Loss: 0.029   lengthscale: 0.265   noise: 0.048\n",
            "(eval mode)\n",
            "Iter 31/50 - Train loss: -0.119\n",
            "Iter 31/50 - Validation loss: -0.348\n",
            "(train mode)\n",
            "Iter 32/50 - Train Loss: 0.028   lengthscale: 0.275   noise: 0.045\n",
            "(eval mode)\n",
            "Iter 32/50 - Train loss: -0.119\n",
            "Iter 32/50 - Validation loss: -0.362\n",
            "(train mode)\n",
            "Iter 33/50 - Train Loss: 0.030   lengthscale: 0.284   noise: 0.042\n",
            "(eval mode)\n",
            "Iter 33/50 - Train loss: -0.118\n",
            "Iter 33/50 - Validation loss: -0.373\n",
            "(train mode)\n",
            "Iter 34/50 - Train Loss: 0.033   lengthscale: 0.293   noise: 0.040\n",
            "(eval mode)\n",
            "Iter 34/50 - Train loss: -0.116\n",
            "Iter 34/50 - Validation loss: -0.382\n",
            "(train mode)\n",
            "Iter 35/50 - Train Loss: 0.037   lengthscale: 0.301   noise: 0.039\n",
            "(eval mode)\n",
            "Iter 35/50 - Train loss: -0.113\n",
            "Iter 35/50 - Validation loss: -0.389\n",
            "(train mode)\n",
            "Iter 36/50 - Train Loss: 0.042   lengthscale: 0.308   noise: 0.037\n",
            "(eval mode)\n",
            "Iter 36/50 - Train loss: -0.111\n",
            "Iter 36/50 - Validation loss: -0.394\n",
            "(train mode)\n",
            "Iter 37/50 - Train Loss: 0.046   lengthscale: 0.314   noise: 0.036\n",
            "(eval mode)\n",
            "Iter 37/50 - Train loss: -0.109\n",
            "Iter 37/50 - Validation loss: -0.397\n",
            "(train mode)\n",
            "Iter 38/50 - Train Loss: 0.049   lengthscale: 0.317   noise: 0.036\n",
            "(eval mode)\n",
            "Iter 38/50 - Train loss: -0.108\n",
            "Iter 38/50 - Validation loss: -0.399\n",
            "(train mode)\n",
            "Iter 39/50 - Train Loss: 0.051   lengthscale: 0.319   noise: 0.035\n",
            "(eval mode)\n",
            "Iter 39/50 - Train loss: -0.107\n",
            "Iter 39/50 - Validation loss: -0.400\n",
            "(train mode)\n",
            "Iter 40/50 - Train Loss: 0.052   lengthscale: 0.319   noise: 0.035\n",
            "(eval mode)\n",
            "Iter 40/50 - Train loss: -0.108\n",
            "Iter 40/50 - Validation loss: -0.399\n",
            "(train mode)\n",
            "Iter 41/50 - Train Loss: 0.051   lengthscale: 0.318   noise: 0.035\n",
            "(eval mode)\n",
            "Iter 41/50 - Train loss: -0.109\n",
            "Iter 41/50 - Validation loss: -0.398\n",
            "(train mode)\n",
            "Iter 42/50 - Train Loss: 0.049   lengthscale: 0.315   noise: 0.036\n",
            "(eval mode)\n",
            "Iter 42/50 - Train loss: -0.110\n",
            "Iter 42/50 - Validation loss: -0.395\n",
            "(train mode)\n",
            "Iter 43/50 - Train Loss: 0.046   lengthscale: 0.311   noise: 0.036\n",
            "(eval mode)\n",
            "Iter 43/50 - Train loss: -0.112\n",
            "Iter 43/50 - Validation loss: -0.391\n",
            "(train mode)\n",
            "Iter 44/50 - Train Loss: 0.043   lengthscale: 0.306   noise: 0.037\n",
            "(eval mode)\n",
            "Iter 44/50 - Train loss: -0.114\n",
            "Iter 44/50 - Validation loss: -0.387\n",
            "(train mode)\n",
            "Iter 45/50 - Train Loss: 0.040   lengthscale: 0.301   noise: 0.038\n",
            "(eval mode)\n",
            "Iter 45/50 - Train loss: -0.116\n",
            "Iter 45/50 - Validation loss: -0.382\n",
            "(train mode)\n",
            "Iter 46/50 - Train Loss: 0.037   lengthscale: 0.297   noise: 0.039\n",
            "(eval mode)\n",
            "Iter 46/50 - Train loss: -0.117\n",
            "Iter 46/50 - Validation loss: -0.376\n",
            "(train mode)\n",
            "Iter 47/50 - Train Loss: 0.034   lengthscale: 0.292   noise: 0.040\n",
            "(eval mode)\n",
            "Iter 47/50 - Train loss: -0.118\n",
            "Iter 47/50 - Validation loss: -0.370\n",
            "(train mode)\n",
            "Iter 48/50 - Train Loss: 0.032   lengthscale: 0.288   noise: 0.041\n",
            "(eval mode)\n",
            "Iter 48/50 - Train loss: -0.119\n",
            "Iter 48/50 - Validation loss: -0.364\n",
            "(train mode)\n",
            "Iter 49/50 - Train Loss: 0.030   lengthscale: 0.285   noise: 0.042\n",
            "(eval mode)\n",
            "Iter 49/50 - Train loss: -0.120\n",
            "Iter 49/50 - Validation loss: -0.357\n",
            "(train mode)\n",
            "Iter 50/50 - Train Loss: 0.029   lengthscale: 0.283   noise: 0.043\n",
            "(eval mode)\n",
            "Iter 50/50 - Train loss: -0.120\n",
            "Iter 50/50 - Validation loss: -0.350\n"
          ],
          "name": "stdout"
        }
      ]
    },
    {
      "cell_type": "code",
      "metadata": {
        "id": "cMT9s2z7CDHD",
        "colab_type": "code",
        "colab": {}
      },
      "source": [
        "import numpy as np"
      ],
      "execution_count": 0,
      "outputs": []
    },
    {
      "cell_type": "code",
      "metadata": {
        "id": "_s-0pE8CAIaz",
        "colab_type": "code",
        "colab": {}
      },
      "source": [
        "def plot_loss(train_loss_vec=[], train_eval_loss_vec=[], validation_loss_vec=[],\n",
        "              title='', ylabel='Loss = -log(L)'):\n",
        "    '''Train and validation losses'''\n",
        "\n",
        "    ax = plt.subplot(111)\n",
        "    if len(train_loss_vec)>0:\n",
        "        ax.plot(np.arange(0, len(train_loss_vec)), train_loss_vec, label='Train set (train mode)', color = 'grey')\n",
        "    if len(train_eval_loss_vec)>0:\n",
        "        ax.plot(np.arange(0, len(train_eval_loss_vec)), train_eval_loss_vec, label='Train set (eval mode)', color = 'blue')\n",
        "    if len(validation_loss_vec)>0:\n",
        "        ax.plot(np.arange(0, len(validation_loss_vec)), validation_loss_vec, label='Validation set', color = 'red')\n",
        "    plt.title(title)\n",
        "    plt.xlabel('Epoch')\n",
        "    plt.ylabel(ylabel)\n",
        "    ax.legend()\n",
        "    plt.show()"
      ],
      "execution_count": 0,
      "outputs": []
    },
    {
      "cell_type": "code",
      "metadata": {
        "id": "Lp_omWXQBxl4",
        "colab_type": "code",
        "outputId": "98362383-96c3-4d0d-95c4-d1a433d2f3ce",
        "colab": {
          "base_uri": "https://localhost:8080/",
          "height": 297
        }
      },
      "source": [
        "plot_loss(train_loss_vec=train_loss_vec, train_eval_loss_vec=train_eval_loss_vec, validation_loss_vec=validation_loss_vec,\n",
        "              title='', ylabel='Loss = -log(L)')\n",
        "plt.savefig(\"plot_losses_simple_GP.png\")"
      ],
      "execution_count": 0,
      "outputs": [
        {
          "output_type": "display_data",
          "data": {
            "image/png": "[encoded data removed]",
            "text/plain": [
              "<Figure size 432x288 with 1 Axes>"
            ]
          },
          "metadata": {
            "tags": []
          }
        },
        {
          "output_type": "display_data",
          "data": {
            "text/plain": [
              "<Figure size 432x288 with 0 Axes>"
            ]
          },
          "metadata": {
            "tags": []
          }
        }
      ]
    },
    {
      "cell_type": "markdown",
      "metadata": {
        "id": "tkz2FrMx2zJq",
        "colab_type": "text"
      },
      "source": [
        "## Make predictions with the model\n",
        "\n",
        "In the next cell, we make predictions with the model. To do this, we simply put the model and likelihood in eval mode, and call both modules on the test data.\n",
        "\n",
        "Just as a user defined GP model returns a `MultivariateNormal` containing the prior mean and covariance from forward, a trained GP model in eval mode returns a `MultivariateNormal` containing the posterior mean and covariance. Thus, getting the predictive mean and variance, and then sampling functions from the GP at the given test points could be accomplished with calls like:\n",
        "\n",
        "```python\n",
        "f_preds = model(test_x)\n",
        "y_preds = likelihood(model(test_x))\n",
        "\n",
        "f_mean = f_preds.mean\n",
        "f_var = f_preds.variance\n",
        "f_covar = f_preds.covariance_matrix\n",
        "f_samples = f_preds.sample(sample_shape=torch.Size(1000,))\n",
        "```\n",
        "\n",
        "The `gpytorch.settings.fast_pred_var` context is not needed, but here we are giving a preview of using one of our cool features, getting faster predictive distributions using [LOVE](https://arxiv.org/abs/1803.06058)."
      ]
    },
    {
      "cell_type": "code",
      "metadata": {
        "id": "SbjmJAwE2zJs",
        "colab_type": "code",
        "colab": {}
      },
      "source": [
        "# Get into evaluation (predictive posterior) mode\n",
        "model.eval()\n",
        "likelihood.eval()\n",
        "\n",
        "# Test points are regularly spaced along [0,1]\n",
        "# Make predictions by feeding model through likelihood\n",
        "with torch.no_grad(), gpytorch.settings.fast_pred_var():\n",
        "    test_x = torch.linspace(0, 1, 51)\n",
        "    observed_pred = likelihood(model(test_x))"
      ],
      "execution_count": 0,
      "outputs": []
    },
    {
      "cell_type": "markdown",
      "metadata": {
        "id": "DB3SsEcd2zJv",
        "colab_type": "text"
      },
      "source": [
        "## Plot the model fit\n",
        "\n",
        "In the next cell, we plot the mean and confidence region of the Gaussian process model. The `confidence_region` method is a helper method that returns 2 standard deviations above and below the mean."
      ]
    },
    {
      "cell_type": "code",
      "metadata": {
        "scrolled": false,
        "id": "zo9_ZjJk2zJw",
        "colab_type": "code",
        "outputId": "8f858fe1-0a3c-4cf3-c73c-06778ecdc789",
        "colab": {}
      },
      "source": [
        "with torch.no_grad():\n",
        "    # Initialize plot\n",
        "    f, ax = plt.subplots(1, 1, figsize=(4, 3))\n",
        "\n",
        "    # Get upper and lower confidence bounds\n",
        "    lower, upper = observed_pred.confidence_region()\n",
        "    # Plot training data as black stars\n",
        "    ax.plot(train_x.numpy(), train_y.numpy(), 'k*')\n",
        "    # Plot predictive means as blue line\n",
        "    ax.plot(test_x.numpy(), observed_pred.mean.numpy(), 'b')\n",
        "    # Shade between the lower and upper confidence bounds\n",
        "    ax.fill_between(test_x.numpy(), lower.numpy(), upper.numpy(), alpha=0.5)\n",
        "    ax.set_ylim([-3, 3])\n",
        "    ax.legend(['Observed Data', 'Mean', 'Confidence'])"
      ],
      "execution_count": 0,
      "outputs": [
        {
          "output_type": "display_data",
          "data": {
            "image/png": "[encoded data removed]",
            "text/plain": [
              "<Figure size 288x216 with 1 Axes>"
            ]
          },
          "metadata": {
            "tags": [],
            "needs_background": "light"
          }
        }
      ]
    },
    {
      "cell_type": "code",
      "metadata": {
        "id": "NjnsSqqi2zJz",
        "colab_type": "code",
        "colab": {}
      },
      "source": [
        ""
      ],
      "execution_count": 0,
      "outputs": []
    }
  ]
}